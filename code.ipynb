{
 "cells": [
  {
   "cell_type": "code",
   "execution_count": 1,
   "id": "ead5c64f",
   "metadata": {},
   "outputs": [
    {
     "name": "stderr",
     "output_type": "stream",
     "text": [
      "2023-08-29 17:42:18.065483: I tensorflow/core/platform/cpu_feature_guard.cc:182] This TensorFlow binary is optimized to use available CPU instructions in performance-critical operations.\n",
      "To enable the following instructions: AVX2 FMA, in other operations, rebuild TensorFlow with the appropriate compiler flags.\n"
     ]
    }
   ],
   "source": [
    "import pandas as pd\n",
    "import numpy as np\n",
    "import plotly.express as px\n",
    "import seaborn as sns\n",
    "import matplotlib.pyplot as plt\n",
    "from sklearn.preprocessing import OneHotEncoder\n",
    "from sklearn.compose import ColumnTransformer\n",
    "from sklearn.preprocessing import LabelEncoder\n",
    "\n",
    "\n",
    "import tensorflow as tf\n",
    "from tensorflow import keras\n",
    "from tensorflow.keras import layers\n",
    "from sklearn.model_selection import train_test_split\n",
    "tf.random.set_seed(2401)\n",
    "from sklearn.preprocessing import StandardScaler\n"
   ]
  },
  {
   "cell_type": "code",
   "execution_count": 4,
   "id": "11ce0fc2",
   "metadata": {},
   "outputs": [],
   "source": [
    "train = pd.read_csv('/Users/inesmurcortes/Documents/GitHub/Spaceship_Titanic/train.csv')\n",
    "test = pd.read_csv('/Users/inesmurcortes/Documents/GitHub/Spaceship_Titanic/test.csv')\n",
    "\n",
    "df = train"
   ]
  },
  {
   "cell_type": "code",
   "execution_count": 477,
   "id": "f86a44b1",
   "metadata": {},
   "outputs": [
    {
     "data": {
      "text/html": [
       "<div>\n",
       "<style scoped>\n",
       "    .dataframe tbody tr th:only-of-type {\n",
       "        vertical-align: middle;\n",
       "    }\n",
       "\n",
       "    .dataframe tbody tr th {\n",
       "        vertical-align: top;\n",
       "    }\n",
       "\n",
       "    .dataframe thead th {\n",
       "        text-align: right;\n",
       "    }\n",
       "</style>\n",
       "<table border=\"1\" class=\"dataframe\">\n",
       "  <thead>\n",
       "    <tr style=\"text-align: right;\">\n",
       "      <th></th>\n",
       "      <th>PassengerId</th>\n",
       "      <th>HomePlanet</th>\n",
       "      <th>CryoSleep</th>\n",
       "      <th>Cabin</th>\n",
       "      <th>Destination</th>\n",
       "      <th>Age</th>\n",
       "      <th>VIP</th>\n",
       "      <th>RoomService</th>\n",
       "      <th>FoodCourt</th>\n",
       "      <th>ShoppingMall</th>\n",
       "      <th>Spa</th>\n",
       "      <th>VRDeck</th>\n",
       "      <th>Name</th>\n",
       "      <th>Transported</th>\n",
       "    </tr>\n",
       "  </thead>\n",
       "  <tbody>\n",
       "    <tr>\n",
       "      <th>0</th>\n",
       "      <td>0001_01</td>\n",
       "      <td>Europa</td>\n",
       "      <td>False</td>\n",
       "      <td>B/0/P</td>\n",
       "      <td>TRAPPIST-1e</td>\n",
       "      <td>39.0</td>\n",
       "      <td>False</td>\n",
       "      <td>0.0</td>\n",
       "      <td>0.0</td>\n",
       "      <td>0.0</td>\n",
       "      <td>0.0</td>\n",
       "      <td>0.0</td>\n",
       "      <td>Maham Ofracculy</td>\n",
       "      <td>False</td>\n",
       "    </tr>\n",
       "    <tr>\n",
       "      <th>1</th>\n",
       "      <td>0002_01</td>\n",
       "      <td>Earth</td>\n",
       "      <td>False</td>\n",
       "      <td>F/0/S</td>\n",
       "      <td>TRAPPIST-1e</td>\n",
       "      <td>24.0</td>\n",
       "      <td>False</td>\n",
       "      <td>109.0</td>\n",
       "      <td>9.0</td>\n",
       "      <td>25.0</td>\n",
       "      <td>549.0</td>\n",
       "      <td>44.0</td>\n",
       "      <td>Juanna Vines</td>\n",
       "      <td>True</td>\n",
       "    </tr>\n",
       "    <tr>\n",
       "      <th>2</th>\n",
       "      <td>0003_01</td>\n",
       "      <td>Europa</td>\n",
       "      <td>False</td>\n",
       "      <td>A/0/S</td>\n",
       "      <td>TRAPPIST-1e</td>\n",
       "      <td>58.0</td>\n",
       "      <td>True</td>\n",
       "      <td>43.0</td>\n",
       "      <td>3576.0</td>\n",
       "      <td>0.0</td>\n",
       "      <td>6715.0</td>\n",
       "      <td>49.0</td>\n",
       "      <td>Altark Susent</td>\n",
       "      <td>False</td>\n",
       "    </tr>\n",
       "    <tr>\n",
       "      <th>3</th>\n",
       "      <td>0003_02</td>\n",
       "      <td>Europa</td>\n",
       "      <td>False</td>\n",
       "      <td>A/0/S</td>\n",
       "      <td>TRAPPIST-1e</td>\n",
       "      <td>33.0</td>\n",
       "      <td>False</td>\n",
       "      <td>0.0</td>\n",
       "      <td>1283.0</td>\n",
       "      <td>371.0</td>\n",
       "      <td>3329.0</td>\n",
       "      <td>193.0</td>\n",
       "      <td>Solam Susent</td>\n",
       "      <td>False</td>\n",
       "    </tr>\n",
       "    <tr>\n",
       "      <th>4</th>\n",
       "      <td>0004_01</td>\n",
       "      <td>Earth</td>\n",
       "      <td>False</td>\n",
       "      <td>F/1/S</td>\n",
       "      <td>TRAPPIST-1e</td>\n",
       "      <td>16.0</td>\n",
       "      <td>False</td>\n",
       "      <td>303.0</td>\n",
       "      <td>70.0</td>\n",
       "      <td>151.0</td>\n",
       "      <td>565.0</td>\n",
       "      <td>2.0</td>\n",
       "      <td>Willy Santantines</td>\n",
       "      <td>True</td>\n",
       "    </tr>\n",
       "  </tbody>\n",
       "</table>\n",
       "</div>"
      ],
      "text/plain": [
       "  PassengerId HomePlanet CryoSleep  Cabin  Destination   Age    VIP  \\\n",
       "0     0001_01     Europa     False  B/0/P  TRAPPIST-1e  39.0  False   \n",
       "1     0002_01      Earth     False  F/0/S  TRAPPIST-1e  24.0  False   \n",
       "2     0003_01     Europa     False  A/0/S  TRAPPIST-1e  58.0   True   \n",
       "3     0003_02     Europa     False  A/0/S  TRAPPIST-1e  33.0  False   \n",
       "4     0004_01      Earth     False  F/1/S  TRAPPIST-1e  16.0  False   \n",
       "\n",
       "   RoomService  FoodCourt  ShoppingMall     Spa  VRDeck               Name  \\\n",
       "0          0.0        0.0           0.0     0.0     0.0    Maham Ofracculy   \n",
       "1        109.0        9.0          25.0   549.0    44.0       Juanna Vines   \n",
       "2         43.0     3576.0           0.0  6715.0    49.0      Altark Susent   \n",
       "3          0.0     1283.0         371.0  3329.0   193.0       Solam Susent   \n",
       "4        303.0       70.0         151.0   565.0     2.0  Willy Santantines   \n",
       "\n",
       "   Transported  \n",
       "0        False  \n",
       "1         True  \n",
       "2        False  \n",
       "3        False  \n",
       "4         True  "
      ]
     },
     "execution_count": 477,
     "metadata": {},
     "output_type": "execute_result"
    }
   ],
   "source": [
    "df.head()\n",
    "#df.describe()\n",
    "#df.info()\n",
    "#df.nunique()"
   ]
  },
  {
   "cell_type": "code",
   "execution_count": 478,
   "id": "64e67f57",
   "metadata": {},
   "outputs": [
    {
     "name": "stdout",
     "output_type": "stream",
     "text": [
      "<class 'pandas.core.frame.DataFrame'>\n",
      "RangeIndex: 8693 entries, 0 to 8692\n",
      "Data columns (total 14 columns):\n",
      " #   Column        Non-Null Count  Dtype  \n",
      "---  ------        --------------  -----  \n",
      " 0   PassengerId   8693 non-null   object \n",
      " 1   HomePlanet    8492 non-null   object \n",
      " 2   CryoSleep     8476 non-null   object \n",
      " 3   Cabin         8494 non-null   object \n",
      " 4   Destination   8511 non-null   object \n",
      " 5   Age           8514 non-null   float64\n",
      " 6   VIP           8490 non-null   object \n",
      " 7   RoomService   8512 non-null   float64\n",
      " 8   FoodCourt     8510 non-null   float64\n",
      " 9   ShoppingMall  8485 non-null   float64\n",
      " 10  Spa           8510 non-null   float64\n",
      " 11  VRDeck        8505 non-null   float64\n",
      " 12  Name          8493 non-null   object \n",
      " 13  Transported   8693 non-null   bool   \n",
      "dtypes: bool(1), float64(6), object(7)\n",
      "memory usage: 891.5+ KB\n"
     ]
    }
   ],
   "source": [
    "# First I would like to have a little bit of information about the type of the variables\n",
    "df.info()"
   ]
  },
  {
   "cell_type": "code",
   "execution_count": 479,
   "id": "b2a518f9",
   "metadata": {
    "scrolled": true
   },
   "outputs": [
    {
     "data": {
      "text/plain": [
       "PassengerId     8693\n",
       "HomePlanet         3\n",
       "CryoSleep          2\n",
       "Cabin           6560\n",
       "Destination        3\n",
       "Age               80\n",
       "VIP                2\n",
       "RoomService     1273\n",
       "FoodCourt       1507\n",
       "ShoppingMall    1115\n",
       "Spa             1327\n",
       "VRDeck          1306\n",
       "Name            8473\n",
       "Transported        2\n",
       "dtype: int64"
      ]
     },
     "execution_count": 479,
     "metadata": {},
     "output_type": "execute_result"
    }
   ],
   "source": [
    "# Now I would like to know about unique values. \n",
    "# PassengerId has many different values and it's not interesting, so I will not keep it.\n",
    "# It happens the same with Name, so I will not keep it either. \n",
    "\n",
    "df.nunique()"
   ]
  },
  {
   "cell_type": "code",
   "execution_count": 480,
   "id": "a0854411",
   "metadata": {},
   "outputs": [],
   "source": [
    "# I drop Name thus is not an interesting variable\n",
    "df.drop(['Name'], axis=1, inplace=True)"
   ]
  },
  {
   "cell_type": "code",
   "execution_count": 481,
   "id": "be81ad96",
   "metadata": {},
   "outputs": [],
   "source": [
    "# Then I will continue by changing the category of some of the variables that are not correct, changing them to 'category'\n",
    "\n",
    "to_factor = list(df.loc[:, df.nunique()<10])\n",
    "df[to_factor] = df[to_factor].astype('category')"
   ]
  },
  {
   "cell_type": "code",
   "execution_count": 482,
   "id": "f5e3ffea",
   "metadata": {
    "scrolled": true
   },
   "outputs": [
    {
     "data": {
      "text/html": [
       "<div>\n",
       "<style scoped>\n",
       "    .dataframe tbody tr th:only-of-type {\n",
       "        vertical-align: middle;\n",
       "    }\n",
       "\n",
       "    .dataframe tbody tr th {\n",
       "        vertical-align: top;\n",
       "    }\n",
       "\n",
       "    .dataframe thead th {\n",
       "        text-align: right;\n",
       "    }\n",
       "</style>\n",
       "<table border=\"1\" class=\"dataframe\">\n",
       "  <thead>\n",
       "    <tr style=\"text-align: right;\">\n",
       "      <th></th>\n",
       "      <th>PassengerId</th>\n",
       "      <th>HomePlanet</th>\n",
       "      <th>CryoSleep</th>\n",
       "      <th>Cabin</th>\n",
       "      <th>Destination</th>\n",
       "      <th>VIP</th>\n",
       "      <th>Transported</th>\n",
       "    </tr>\n",
       "  </thead>\n",
       "  <tbody>\n",
       "    <tr>\n",
       "      <th>count</th>\n",
       "      <td>8693</td>\n",
       "      <td>8492</td>\n",
       "      <td>8476</td>\n",
       "      <td>8494</td>\n",
       "      <td>8511</td>\n",
       "      <td>8490</td>\n",
       "      <td>8693</td>\n",
       "    </tr>\n",
       "    <tr>\n",
       "      <th>unique</th>\n",
       "      <td>8693</td>\n",
       "      <td>3</td>\n",
       "      <td>2</td>\n",
       "      <td>6560</td>\n",
       "      <td>3</td>\n",
       "      <td>2</td>\n",
       "      <td>2</td>\n",
       "    </tr>\n",
       "    <tr>\n",
       "      <th>top</th>\n",
       "      <td>0001_01</td>\n",
       "      <td>Earth</td>\n",
       "      <td>False</td>\n",
       "      <td>G/734/S</td>\n",
       "      <td>TRAPPIST-1e</td>\n",
       "      <td>False</td>\n",
       "      <td>True</td>\n",
       "    </tr>\n",
       "    <tr>\n",
       "      <th>freq</th>\n",
       "      <td>1</td>\n",
       "      <td>4602</td>\n",
       "      <td>5439</td>\n",
       "      <td>8</td>\n",
       "      <td>5915</td>\n",
       "      <td>8291</td>\n",
       "      <td>4378</td>\n",
       "    </tr>\n",
       "  </tbody>\n",
       "</table>\n",
       "</div>"
      ],
      "text/plain": [
       "       PassengerId HomePlanet CryoSleep    Cabin  Destination    VIP  \\\n",
       "count         8693       8492      8476     8494         8511   8490   \n",
       "unique        8693          3         2     6560            3      2   \n",
       "top        0001_01      Earth     False  G/734/S  TRAPPIST-1e  False   \n",
       "freq             1       4602      5439        8         5915   8291   \n",
       "\n",
       "       Transported  \n",
       "count         8693  \n",
       "unique           2  \n",
       "top           True  \n",
       "freq          4378  "
      ]
     },
     "execution_count": 482,
     "metadata": {},
     "output_type": "execute_result"
    }
   ],
   "source": [
    "# Now I describe the categorical variables. I see some points that I would like to inspect a little bit more.\n",
    "df.describe(exclude=np.number)"
   ]
  },
  {
   "cell_type": "code",
   "execution_count": 483,
   "id": "7d412d93",
   "metadata": {},
   "outputs": [
    {
     "data": {
      "text/html": [
       "<div>\n",
       "<style scoped>\n",
       "    .dataframe tbody tr th:only-of-type {\n",
       "        vertical-align: middle;\n",
       "    }\n",
       "\n",
       "    .dataframe tbody tr th {\n",
       "        vertical-align: top;\n",
       "    }\n",
       "\n",
       "    .dataframe thead th {\n",
       "        text-align: right;\n",
       "    }\n",
       "</style>\n",
       "<table border=\"1\" class=\"dataframe\">\n",
       "  <thead>\n",
       "    <tr style=\"text-align: right;\">\n",
       "      <th></th>\n",
       "      <th>Age</th>\n",
       "      <th>RoomService</th>\n",
       "      <th>FoodCourt</th>\n",
       "      <th>ShoppingMall</th>\n",
       "      <th>Spa</th>\n",
       "      <th>VRDeck</th>\n",
       "    </tr>\n",
       "  </thead>\n",
       "  <tbody>\n",
       "    <tr>\n",
       "      <th>count</th>\n",
       "      <td>8514.000000</td>\n",
       "      <td>8512.000000</td>\n",
       "      <td>8510.000000</td>\n",
       "      <td>8485.000000</td>\n",
       "      <td>8510.000000</td>\n",
       "      <td>8505.000000</td>\n",
       "    </tr>\n",
       "    <tr>\n",
       "      <th>mean</th>\n",
       "      <td>28.827930</td>\n",
       "      <td>224.687617</td>\n",
       "      <td>458.077203</td>\n",
       "      <td>173.729169</td>\n",
       "      <td>311.138778</td>\n",
       "      <td>304.854791</td>\n",
       "    </tr>\n",
       "    <tr>\n",
       "      <th>std</th>\n",
       "      <td>14.489021</td>\n",
       "      <td>666.717663</td>\n",
       "      <td>1611.489240</td>\n",
       "      <td>604.696458</td>\n",
       "      <td>1136.705535</td>\n",
       "      <td>1145.717189</td>\n",
       "    </tr>\n",
       "    <tr>\n",
       "      <th>min</th>\n",
       "      <td>0.000000</td>\n",
       "      <td>0.000000</td>\n",
       "      <td>0.000000</td>\n",
       "      <td>0.000000</td>\n",
       "      <td>0.000000</td>\n",
       "      <td>0.000000</td>\n",
       "    </tr>\n",
       "    <tr>\n",
       "      <th>25%</th>\n",
       "      <td>19.000000</td>\n",
       "      <td>0.000000</td>\n",
       "      <td>0.000000</td>\n",
       "      <td>0.000000</td>\n",
       "      <td>0.000000</td>\n",
       "      <td>0.000000</td>\n",
       "    </tr>\n",
       "    <tr>\n",
       "      <th>50%</th>\n",
       "      <td>27.000000</td>\n",
       "      <td>0.000000</td>\n",
       "      <td>0.000000</td>\n",
       "      <td>0.000000</td>\n",
       "      <td>0.000000</td>\n",
       "      <td>0.000000</td>\n",
       "    </tr>\n",
       "    <tr>\n",
       "      <th>75%</th>\n",
       "      <td>38.000000</td>\n",
       "      <td>47.000000</td>\n",
       "      <td>76.000000</td>\n",
       "      <td>27.000000</td>\n",
       "      <td>59.000000</td>\n",
       "      <td>46.000000</td>\n",
       "    </tr>\n",
       "    <tr>\n",
       "      <th>max</th>\n",
       "      <td>79.000000</td>\n",
       "      <td>14327.000000</td>\n",
       "      <td>29813.000000</td>\n",
       "      <td>23492.000000</td>\n",
       "      <td>22408.000000</td>\n",
       "      <td>24133.000000</td>\n",
       "    </tr>\n",
       "  </tbody>\n",
       "</table>\n",
       "</div>"
      ],
      "text/plain": [
       "               Age   RoomService     FoodCourt  ShoppingMall           Spa  \\\n",
       "count  8514.000000   8512.000000   8510.000000   8485.000000   8510.000000   \n",
       "mean     28.827930    224.687617    458.077203    173.729169    311.138778   \n",
       "std      14.489021    666.717663   1611.489240    604.696458   1136.705535   \n",
       "min       0.000000      0.000000      0.000000      0.000000      0.000000   \n",
       "25%      19.000000      0.000000      0.000000      0.000000      0.000000   \n",
       "50%      27.000000      0.000000      0.000000      0.000000      0.000000   \n",
       "75%      38.000000     47.000000     76.000000     27.000000     59.000000   \n",
       "max      79.000000  14327.000000  29813.000000  23492.000000  22408.000000   \n",
       "\n",
       "             VRDeck  \n",
       "count   8505.000000  \n",
       "mean     304.854791  \n",
       "std     1145.717189  \n",
       "min        0.000000  \n",
       "25%        0.000000  \n",
       "50%        0.000000  \n",
       "75%       46.000000  \n",
       "max    24133.000000  "
      ]
     },
     "execution_count": 483,
     "metadata": {},
     "output_type": "execute_result"
    }
   ],
   "source": [
    "# Now I describe the numberical values, where I can see the great range of most of the variables. \n",
    "df.describe(include=np.number)"
   ]
  },
  {
   "cell_type": "code",
   "execution_count": 484,
   "id": "0bf6e5a5",
   "metadata": {},
   "outputs": [],
   "source": [
    "# Now I use some functions to plot the data depending on whether they are categorical or not\n",
    "def histogram_boxplot(data, xlabel=None, title=None, font_scale=2, figsize=(9, 8), bins=None):\n",
    "\n",
    "    # Define font size\n",
    "    sns.set(font_scale=font_scale)\n",
    "    # Create subplots for boxplot and histogram\n",
    "    f2, (ax_box2, ax_hist2) = plt.subplots(2, sharex=True, gridspec_kw={\"height_ratios\": (.15, .85)}, figsize=figsize)\n",
    "    # Check if data is numeric\n",
    "    if data.dtype.kind in 'biufc':\n",
    "        # Create boxplot\n",
    "        sns.boxplot(x=data, ax=ax_box2)\n",
    "    else:\n",
    "        ax_box2.axis('off')  # Turn off boxplot axes if data is not numeric\n",
    "\n",
    "    # Create histogram\n",
    "    sns.histplot(x=data, ax=ax_hist2, bins=bins) if bins else sns.histplot(x=data, ax=ax_hist2)\n",
    "    # Plot a line for the mean\n",
    "    ax_hist2.axvline(np.mean(data), color='g', linestyle='-')\n",
    "    # Plot a line for the median\n",
    "    ax_hist2.axvline(np.median(data), color='y', linestyle='--')\n",
    "    # Set xlabel and title if provided\n",
    "    if xlabel:\n",
    "        ax_hist2.set(xlabel=xlabel)\n",
    "    if title:\n",
    "        ax_box2.set(title=title, xlabel=\"\")\n",
    "    # Show histogram\n",
    "    plt.show()\n",
    "\n",
    "def cat_plot(col):\n",
    "     if col.dtypes == 'category':\n",
    "        fig = px.bar(col.value_counts())\n",
    "        #fig = sns.countplot(x=col)\n",
    "        return(fig)\n",
    "    \n",
    "def plot(col):\n",
    "    if col.dtypes != 'category':\n",
    "        print('Cont')\n",
    "        histogram_boxplot(col, xlabel = col.name, title = 'Distibución continua')\n",
    "    else:\n",
    "        print('Cat')\n",
    "        cat_plot(col)\n"
   ]
  },
  {
   "cell_type": "code",
   "execution_count": 165,
   "id": "2c757543",
   "metadata": {},
   "outputs": [],
   "source": [
    "# After a lot of troublshooting, I find out that there is an error on this code when applying to column 'Cabin'. \n",
    "# I will study it in depth later on.\n",
    "\n",
    "df_plot = df.drop(['Cabin', 'PassengerId'], axis=1)"
   ]
  },
  {
   "cell_type": "code",
   "execution_count": 167,
   "id": "5497956f",
   "metadata": {
    "scrolled": true
   },
   "outputs": [
    {
     "name": "stdout",
     "output_type": "stream",
     "text": [
      "Cat\n",
      "Cat\n",
      "Cat\n",
      "Cont\n"
     ]
    },
    {
     "data": {
      "image/png": "[encoded data removed]",
      "text/plain": [
       "<Figure size 648x576 with 2 Axes>"
      ]
     },
     "metadata": {},
     "output_type": "display_data"
    },
    {
     "name": "stdout",
     "output_type": "stream",
     "text": [
      "Cat\n",
      "Cont\n"
     ]
    },
    {
     "data": {
      "image/png": "[encoded data removed]",
      "text/plain": [
       "<Figure size 648x576 with 2 Axes>"
      ]
     },
     "metadata": {},
     "output_type": "display_data"
    },
    {
     "name": "stdout",
     "output_type": "stream",
     "text": [
      "Cont\n"
     ]
    },
    {
     "data": {
      "image/png": "[encoded data removed]",
      "text/plain": [
       "<Figure size 648x576 with 2 Axes>"
      ]
     },
     "metadata": {},
     "output_type": "display_data"
    },
    {
     "name": "stdout",
     "output_type": "stream",
     "text": [
      "Cont\n"
     ]
    },
    {
     "data": {
      "image/png": "[encoded data removed]",
      "text/plain": [
       "<Figure size 648x576 with 2 Axes>"
      ]
     },
     "metadata": {},
     "output_type": "display_data"
    },
    {
     "name": "stdout",
     "output_type": "stream",
     "text": [
      "Cont\n"
     ]
    },
    {
     "data": {
      "image/png": "[encoded data removed]",
      "text/plain": [
       "<Figure size 648x576 with 2 Axes>"
      ]
     },
     "metadata": {},
     "output_type": "display_data"
    },
    {
     "name": "stdout",
     "output_type": "stream",
     "text": [
      "Cont\n"
     ]
    },
    {
     "data": {
      "image/png": "[encoded data removed]",
      "text/plain": [
       "<Figure size 648x576 with 2 Axes>"
      ]
     },
     "metadata": {},
     "output_type": "display_data"
    },
    {
     "name": "stdout",
     "output_type": "stream",
     "text": [
      "Cat\n"
     ]
    },
    {
     "data": {
      "text/plain": [
       "HomePlanet      None\n",
       "CryoSleep       None\n",
       "Destination     None\n",
       "Age             None\n",
       "VIP             None\n",
       "RoomService     None\n",
       "FoodCourt       None\n",
       "ShoppingMall    None\n",
       "Spa             None\n",
       "VRDeck          None\n",
       "Transported     None\n",
       "dtype: object"
      ]
     },
     "execution_count": 167,
     "metadata": {},
     "output_type": "execute_result"
    }
   ],
   "source": [
    "df_plot.iloc[:,:].apply(plot)"
   ]
  },
  {
   "cell_type": "code",
   "execution_count": null,
   "id": "9e1cc1fe",
   "metadata": {},
   "outputs": [],
   "source": [
    "cat_plot(df.VIP)"
   ]
  },
  {
   "cell_type": "code",
   "execution_count": null,
   "id": "fe7913b7",
   "metadata": {},
   "outputs": [],
   "source": [
    "cat_plot(df.CryoSleep)"
   ]
  },
  {
   "cell_type": "code",
   "execution_count": null,
   "id": "2670445d",
   "metadata": {},
   "outputs": [],
   "source": [
    "cat_plot(df.HomePlanet)"
   ]
  },
  {
   "cell_type": "code",
   "execution_count": null,
   "id": "114a2a65",
   "metadata": {},
   "outputs": [],
   "source": [
    "cat_plot(df.Destination)"
   ]
  },
  {
   "cell_type": "markdown",
   "id": "ac162371",
   "metadata": {},
   "source": [
    "### Conclusions ###\n",
    "\n",
    "1. Categorical variables: The visual study that I made about the categorical data shows that most of the variables are imbalanced.\n",
    "    * VIP is a very imbalanced variable, with almost 2% of the passengers being VIP.\n",
    "    * CryoSleep balanced, with 55% of the passengers being on CryoSleep during the trip.\n",
    "    * Most of the passengers are from the Earth (54%), while the other two categories (Europa and Mars) are similar.\n",
    "    * Destination is more imbalaced than HomePlanet. Most of the passengers are heading to TRAPIST-1e (67%), but the other two minor categories are also imbalanced, being 55 Cancri e the next most popular destination.\n",
    "\n",
    "2. Numercial variables: The visual study shows that most of the variables don't follow a normal distribution, besides 'Age' which mean is 28 years of age. The visual studio and the quantitative studio suggests that the range of the variables is way too large and there is presence of outliers. \n",
    "\n",
    "3. The variable 'Cabin' is composed by Deck / Num / Side, so I will divide the variable into three different ones in order to study passengers location more accurately. \n",
    "\n",
    "4. The variable 'PassengerID' is composed by Group Number and their Position within that group, so I will split the variable into two different ones. Just like 'Cabin'."
   ]
  },
  {
   "cell_type": "code",
   "execution_count": 485,
   "id": "397f8a68",
   "metadata": {},
   "outputs": [],
   "source": [
    "df.Cabin = df.Cabin.fillna('00/00/00')"
   ]
  },
  {
   "cell_type": "code",
   "execution_count": 486,
   "id": "ede304a4",
   "metadata": {},
   "outputs": [],
   "source": [
    "split_values = df.Cabin.str.split('/', expand=True)\n",
    "split_values = split_values.rename(columns={0:'Cabin_Deck', 1:'Cabin_Number', 2:'Cabin_Side'})"
   ]
  },
  {
   "cell_type": "code",
   "execution_count": 487,
   "id": "d085efd9",
   "metadata": {},
   "outputs": [],
   "source": [
    "df = df.join(split_values)\n",
    "df.drop('Cabin', axis=1, inplace=True)"
   ]
  },
  {
   "cell_type": "code",
   "execution_count": 489,
   "id": "1573597e",
   "metadata": {
    "scrolled": true
   },
   "outputs": [],
   "source": [
    "split_values = df.PassengerId.str.split('_', expand=True)\n",
    "split_values = split_values.rename(columns={0:'Passenger_Group', 1:'Passenger_Number'})"
   ]
  },
  {
   "cell_type": "code",
   "execution_count": 490,
   "id": "48797a2a",
   "metadata": {},
   "outputs": [],
   "source": [
    "df = df.join(split_values)\n",
    "df.drop('PassengerId', axis=1, inplace=True)"
   ]
  },
  {
   "cell_type": "code",
   "execution_count": 491,
   "id": "ba70f95c",
   "metadata": {},
   "outputs": [
    {
     "data": {
      "text/html": [
       "<div>\n",
       "<style scoped>\n",
       "    .dataframe tbody tr th:only-of-type {\n",
       "        vertical-align: middle;\n",
       "    }\n",
       "\n",
       "    .dataframe tbody tr th {\n",
       "        vertical-align: top;\n",
       "    }\n",
       "\n",
       "    .dataframe thead th {\n",
       "        text-align: right;\n",
       "    }\n",
       "</style>\n",
       "<table border=\"1\" class=\"dataframe\">\n",
       "  <thead>\n",
       "    <tr style=\"text-align: right;\">\n",
       "      <th></th>\n",
       "      <th>HomePlanet</th>\n",
       "      <th>CryoSleep</th>\n",
       "      <th>Destination</th>\n",
       "      <th>Age</th>\n",
       "      <th>VIP</th>\n",
       "      <th>RoomService</th>\n",
       "      <th>FoodCourt</th>\n",
       "      <th>ShoppingMall</th>\n",
       "      <th>Spa</th>\n",
       "      <th>VRDeck</th>\n",
       "      <th>Transported</th>\n",
       "      <th>Cabin_Deck</th>\n",
       "      <th>Cabin_Number</th>\n",
       "      <th>Cabin_Side</th>\n",
       "      <th>Passenger_Group</th>\n",
       "      <th>Passenger_Number</th>\n",
       "    </tr>\n",
       "  </thead>\n",
       "  <tbody>\n",
       "    <tr>\n",
       "      <th>0</th>\n",
       "      <td>Europa</td>\n",
       "      <td>False</td>\n",
       "      <td>TRAPPIST-1e</td>\n",
       "      <td>39.0</td>\n",
       "      <td>False</td>\n",
       "      <td>0.0</td>\n",
       "      <td>0.0</td>\n",
       "      <td>0.0</td>\n",
       "      <td>0.0</td>\n",
       "      <td>0.0</td>\n",
       "      <td>False</td>\n",
       "      <td>B</td>\n",
       "      <td>0</td>\n",
       "      <td>P</td>\n",
       "      <td>0001</td>\n",
       "      <td>01</td>\n",
       "    </tr>\n",
       "    <tr>\n",
       "      <th>1</th>\n",
       "      <td>Earth</td>\n",
       "      <td>False</td>\n",
       "      <td>TRAPPIST-1e</td>\n",
       "      <td>24.0</td>\n",
       "      <td>False</td>\n",
       "      <td>109.0</td>\n",
       "      <td>9.0</td>\n",
       "      <td>25.0</td>\n",
       "      <td>549.0</td>\n",
       "      <td>44.0</td>\n",
       "      <td>True</td>\n",
       "      <td>F</td>\n",
       "      <td>0</td>\n",
       "      <td>S</td>\n",
       "      <td>0002</td>\n",
       "      <td>01</td>\n",
       "    </tr>\n",
       "    <tr>\n",
       "      <th>2</th>\n",
       "      <td>Europa</td>\n",
       "      <td>False</td>\n",
       "      <td>TRAPPIST-1e</td>\n",
       "      <td>58.0</td>\n",
       "      <td>True</td>\n",
       "      <td>43.0</td>\n",
       "      <td>3576.0</td>\n",
       "      <td>0.0</td>\n",
       "      <td>6715.0</td>\n",
       "      <td>49.0</td>\n",
       "      <td>False</td>\n",
       "      <td>A</td>\n",
       "      <td>0</td>\n",
       "      <td>S</td>\n",
       "      <td>0003</td>\n",
       "      <td>01</td>\n",
       "    </tr>\n",
       "    <tr>\n",
       "      <th>3</th>\n",
       "      <td>Europa</td>\n",
       "      <td>False</td>\n",
       "      <td>TRAPPIST-1e</td>\n",
       "      <td>33.0</td>\n",
       "      <td>False</td>\n",
       "      <td>0.0</td>\n",
       "      <td>1283.0</td>\n",
       "      <td>371.0</td>\n",
       "      <td>3329.0</td>\n",
       "      <td>193.0</td>\n",
       "      <td>False</td>\n",
       "      <td>A</td>\n",
       "      <td>0</td>\n",
       "      <td>S</td>\n",
       "      <td>0003</td>\n",
       "      <td>02</td>\n",
       "    </tr>\n",
       "    <tr>\n",
       "      <th>4</th>\n",
       "      <td>Earth</td>\n",
       "      <td>False</td>\n",
       "      <td>TRAPPIST-1e</td>\n",
       "      <td>16.0</td>\n",
       "      <td>False</td>\n",
       "      <td>303.0</td>\n",
       "      <td>70.0</td>\n",
       "      <td>151.0</td>\n",
       "      <td>565.0</td>\n",
       "      <td>2.0</td>\n",
       "      <td>True</td>\n",
       "      <td>F</td>\n",
       "      <td>1</td>\n",
       "      <td>S</td>\n",
       "      <td>0004</td>\n",
       "      <td>01</td>\n",
       "    </tr>\n",
       "  </tbody>\n",
       "</table>\n",
       "</div>"
      ],
      "text/plain": [
       "  HomePlanet CryoSleep  Destination   Age    VIP  RoomService  FoodCourt  \\\n",
       "0     Europa     False  TRAPPIST-1e  39.0  False          0.0        0.0   \n",
       "1      Earth     False  TRAPPIST-1e  24.0  False        109.0        9.0   \n",
       "2     Europa     False  TRAPPIST-1e  58.0   True         43.0     3576.0   \n",
       "3     Europa     False  TRAPPIST-1e  33.0  False          0.0     1283.0   \n",
       "4      Earth     False  TRAPPIST-1e  16.0  False        303.0       70.0   \n",
       "\n",
       "   ShoppingMall     Spa  VRDeck Transported Cabin_Deck Cabin_Number  \\\n",
       "0           0.0     0.0     0.0       False          B            0   \n",
       "1          25.0   549.0    44.0        True          F            0   \n",
       "2           0.0  6715.0    49.0       False          A            0   \n",
       "3         371.0  3329.0   193.0       False          A            0   \n",
       "4         151.0   565.0     2.0        True          F            1   \n",
       "\n",
       "  Cabin_Side Passenger_Group Passenger_Number  \n",
       "0          P            0001               01  \n",
       "1          S            0002               01  \n",
       "2          S            0003               01  \n",
       "3          S            0003               02  \n",
       "4          S            0004               01  "
      ]
     },
     "execution_count": 491,
     "metadata": {},
     "output_type": "execute_result"
    }
   ],
   "source": [
    "df.head()"
   ]
  },
  {
   "cell_type": "markdown",
   "id": "2e8538ce",
   "metadata": {},
   "source": [
    "# Variable Cleaning"
   ]
  },
  {
   "cell_type": "markdown",
   "id": "4df8b977",
   "metadata": {},
   "source": [
    "## Outliers Analysis"
   ]
  },
  {
   "cell_type": "code",
   "execution_count": 492,
   "id": "5e67f0b3",
   "metadata": {},
   "outputs": [],
   "source": [
    "# To asses the incidence of outliers, first I create a list of all countinuous variables and make a copy.\n",
    "col_cont = ['Age', 'RoomService', 'FoodCourt', 'ShoppingMall', 'Spa', 'VRDeck']\n",
    "df_cont = df[col_cont].copy()"
   ]
  },
  {
   "cell_type": "code",
   "execution_count": 493,
   "id": "efcbbba9",
   "metadata": {},
   "outputs": [
    {
     "name": "stdout",
     "output_type": "stream",
     "text": [
      "Age\n",
      "RoomService\n",
      "FoodCourt\n",
      "ShoppingMall\n",
      "Spa\n",
      "VRDeck\n"
     ]
    },
    {
     "data": {
      "text/html": [
       "<div>\n",
       "<style scoped>\n",
       "    .dataframe tbody tr th:only-of-type {\n",
       "        vertical-align: middle;\n",
       "    }\n",
       "\n",
       "    .dataframe tbody tr th {\n",
       "        vertical-align: top;\n",
       "    }\n",
       "\n",
       "    .dataframe thead th {\n",
       "        text-align: right;\n",
       "    }\n",
       "</style>\n",
       "<table border=\"1\" class=\"dataframe\">\n",
       "  <thead>\n",
       "    <tr style=\"text-align: right;\">\n",
       "      <th></th>\n",
       "      <th>Age</th>\n",
       "      <th>RoomService</th>\n",
       "      <th>FoodCourt</th>\n",
       "      <th>ShoppingMall</th>\n",
       "      <th>Spa</th>\n",
       "      <th>VRDeck</th>\n",
       "    </tr>\n",
       "  </thead>\n",
       "  <tbody>\n",
       "    <tr>\n",
       "      <th>0</th>\n",
       "      <td>0.0</td>\n",
       "      <td>0.000000</td>\n",
       "      <td>0.00000</td>\n",
       "      <td>0.000000</td>\n",
       "      <td>0.000000</td>\n",
       "      <td>0.000000</td>\n",
       "    </tr>\n",
       "    <tr>\n",
       "      <th>1</th>\n",
       "      <td>0.0</td>\n",
       "      <td>1.233553</td>\n",
       "      <td>1.73913</td>\n",
       "      <td>1.166765</td>\n",
       "      <td>1.903643</td>\n",
       "      <td>1.857731</td>\n",
       "    </tr>\n",
       "    <tr>\n",
       "      <th>2</th>\n",
       "      <td>0.0</td>\n",
       "      <td>1.233553</td>\n",
       "      <td>1.73913</td>\n",
       "      <td>1.166765</td>\n",
       "      <td>1.903643</td>\n",
       "      <td>1.857731</td>\n",
       "    </tr>\n",
       "  </tbody>\n",
       "</table>\n",
       "</div>"
      ],
      "text/plain": [
       "   Age  RoomService  FoodCourt  ShoppingMall       Spa    VRDeck\n",
       "0  0.0     0.000000    0.00000      0.000000  0.000000  0.000000\n",
       "1  0.0     1.233553    1.73913      1.166765  1.903643  1.857731\n",
       "2  0.0     1.233553    1.73913      1.166765  1.903643  1.857731"
      ]
     },
     "execution_count": 493,
     "metadata": {},
     "output_type": "execute_result"
    }
   ],
   "source": [
    "## Winsor clip+pandas\n",
    "def winsorize_with_pandas(s, limits):\n",
    "    \"\"\"\n",
    "    s : pd.Series\n",
    "        Series to winsorize\n",
    "    limits : tuple of float\n",
    "        Tuple of the percentages to cut on each side of the array, \n",
    "        with respect to the number of unmasked data, as floats between 0. and 1\n",
    "    \"\"\"\n",
    "    return s.clip(lower=s.quantile(limits[0], interpolation='lower'), \n",
    "                  upper=s.quantile(1-limits[1], interpolation='higher'))\n",
    "\n",
    "## Manage outliers\n",
    "def gestiona_outliers(col,clas = 'check'):\n",
    "    \n",
    "     print(col.name)\n",
    "     # Condición de asimetría y aplicación de criterio 1 según el caso\n",
    "     if abs(col.skew()) < 1:\n",
    "        criterio1 = abs((col-col.mean())/col.std())>3\n",
    "     else:\n",
    "        criterio1 = abs((col-col.median())/col.mad())>8\n",
    "     \n",
    "     # Calcular primer cuartil     \n",
    "     q1 = col.quantile(0.25)  \n",
    "     # Calcular tercer cuartil  \n",
    "     q3 = col.quantile(0.75)\n",
    "     # Calculo de IQR\n",
    "     IQR=q3-q1\n",
    "     # Calcular criterio 2 (general para cualquier asimetría)\n",
    "     criterio2 = (col<(q1 - 3*IQR))|(col>(q3 + 3*IQR))\n",
    "     lower = col[criterio1&criterio2&(col<q1)].count()/col.dropna().count()\n",
    "     upper = col[criterio1&criterio2&(col>q3)].count()/col.dropna().count()\n",
    "     # Salida según el tipo deseado\n",
    "     if clas == 'check':\n",
    "            return(lower*100,upper*100,(lower+upper)*100)\n",
    "     elif clas == 'winsor':\n",
    "            return(winsorize_with_pandas(col,(lower,upper)))\n",
    "     elif clas == 'miss':\n",
    "            print('\\n MissingAntes: ' + str(col.isna().sum()))\n",
    "            col.loc[criterio1&criterio2] = np.nan\n",
    "            print('MissingDespues: ' + str(col.isna().sum()) +'\\n')\n",
    "            return(col)\n",
    "\n",
    "          \n",
    "# Check-Mode Calling Function\n",
    "df_cont.select_dtypes(include=np.number).copy().apply(lambda x: gestiona_outliers(x))"
   ]
  },
  {
   "cell_type": "code",
   "execution_count": 494,
   "id": "68009308",
   "metadata": {},
   "outputs": [
    {
     "name": "stdout",
     "output_type": "stream",
     "text": [
      "Age\n",
      "RoomService\n",
      "FoodCourt\n",
      "ShoppingMall\n",
      "Spa\n",
      "VRDeck\n"
     ]
    }
   ],
   "source": [
    "# While having very skewed variables and a low outliers incidence, I have decided to winsorize the outliers.\n",
    "df_cont_winsor = df_cont.apply(lambda x: gestiona_outliers(x,clas='winsor'))"
   ]
  },
  {
   "cell_type": "code",
   "execution_count": 495,
   "id": "36d91f2e",
   "metadata": {},
   "outputs": [
    {
     "data": {
      "text/html": [
       "<div>\n",
       "<style scoped>\n",
       "    .dataframe tbody tr th:only-of-type {\n",
       "        vertical-align: middle;\n",
       "    }\n",
       "\n",
       "    .dataframe tbody tr th {\n",
       "        vertical-align: top;\n",
       "    }\n",
       "\n",
       "    .dataframe thead th {\n",
       "        text-align: right;\n",
       "    }\n",
       "</style>\n",
       "<table border=\"1\" class=\"dataframe\">\n",
       "  <thead>\n",
       "    <tr style=\"text-align: right;\">\n",
       "      <th></th>\n",
       "      <th>Age</th>\n",
       "      <th>RoomService</th>\n",
       "      <th>FoodCourt</th>\n",
       "      <th>ShoppingMall</th>\n",
       "      <th>Spa</th>\n",
       "      <th>VRDeck</th>\n",
       "    </tr>\n",
       "  </thead>\n",
       "  <tbody>\n",
       "    <tr>\n",
       "      <th>1572</th>\n",
       "      <td>38.0</td>\n",
       "      <td>158.0</td>\n",
       "      <td>787.0</td>\n",
       "      <td>2184.0</td>\n",
       "      <td>NaN</td>\n",
       "      <td>86.0</td>\n",
       "    </tr>\n",
       "    <tr>\n",
       "      <th>3881</th>\n",
       "      <td>58.0</td>\n",
       "      <td>0.0</td>\n",
       "      <td>279.0</td>\n",
       "      <td>2184.0</td>\n",
       "      <td>122.0</td>\n",
       "      <td>30.0</td>\n",
       "    </tr>\n",
       "    <tr>\n",
       "      <th>5673</th>\n",
       "      <td>36.0</td>\n",
       "      <td>0.0</td>\n",
       "      <td>1828.0</td>\n",
       "      <td>2184.0</td>\n",
       "      <td>1.0</td>\n",
       "      <td>2.0</td>\n",
       "    </tr>\n",
       "    <tr>\n",
       "      <th>5137</th>\n",
       "      <td>15.0</td>\n",
       "      <td>0.0</td>\n",
       "      <td>22.0</td>\n",
       "      <td>2184.0</td>\n",
       "      <td>0.0</td>\n",
       "      <td>531.0</td>\n",
       "    </tr>\n",
       "    <tr>\n",
       "      <th>6223</th>\n",
       "      <td>13.0</td>\n",
       "      <td>0.0</td>\n",
       "      <td>100.0</td>\n",
       "      <td>2184.0</td>\n",
       "      <td>6.0</td>\n",
       "      <td>80.0</td>\n",
       "    </tr>\n",
       "  </tbody>\n",
       "</table>\n",
       "</div>"
      ],
      "text/plain": [
       "       Age  RoomService  FoodCourt  ShoppingMall    Spa  VRDeck\n",
       "1572  38.0        158.0      787.0        2184.0    NaN    86.0\n",
       "3881  58.0          0.0      279.0        2184.0  122.0    30.0\n",
       "5673  36.0          0.0     1828.0        2184.0    1.0     2.0\n",
       "5137  15.0          0.0       22.0        2184.0    0.0   531.0\n",
       "6223  13.0          0.0      100.0        2184.0    6.0    80.0"
      ]
     },
     "execution_count": 495,
     "metadata": {},
     "output_type": "execute_result"
    }
   ],
   "source": [
    "# I check the correct use of the winsorize function on ShoppingMall variable\n",
    "df_cont_winsor.sort_values(by='ShoppingMall', ascending=False).head()"
   ]
  },
  {
   "cell_type": "markdown",
   "id": "e969b92e",
   "metadata": {},
   "source": [
    "## Missings Analysis"
   ]
  },
  {
   "cell_type": "code",
   "execution_count": 496,
   "id": "efdb64c8",
   "metadata": {},
   "outputs": [],
   "source": [
    "# I join the DF with the winsorized variables and the categorical variables that I saved before\n",
    "df_winsor = df_cont_winsor.join(df.select_dtypes(exclude=np.number))"
   ]
  },
  {
   "cell_type": "code",
   "execution_count": 497,
   "id": "e79c4d65",
   "metadata": {},
   "outputs": [
    {
     "data": {
      "text/plain": [
       "Age                 2.102420\n",
       "RoomService         2.126410\n",
       "FoodCourt           2.150411\n",
       "ShoppingMall        2.451385\n",
       "Spa                 2.150411\n",
       "VRDeck              2.210464\n",
       "HomePlanet          2.366934\n",
       "CryoSleep           2.560170\n",
       "Destination         2.138409\n",
       "VIP                 2.391048\n",
       "Transported         0.000000\n",
       "Cabin_Deck          0.000000\n",
       "Cabin_Number        0.000000\n",
       "Cabin_Side          0.000000\n",
       "Passenger_Group     0.000000\n",
       "Passenger_Number    0.000000\n",
       "dtype: float64"
      ]
     },
     "execution_count": 497,
     "metadata": {},
     "output_type": "execute_result"
    }
   ],
   "source": [
    "# I inspect the incidence of missings and I find out is very low (slightly above 2%) \n",
    "df_winsor.apply(lambda x: x.isna().sum()/x.count()*100)"
   ]
  },
  {
   "cell_type": "code",
   "execution_count": 498,
   "id": "4749eba1",
   "metadata": {},
   "outputs": [
    {
     "data": {
      "text/plain": [
       "<matplotlib.axes._subplots.AxesSubplot at 0x7f87cd803f10>"
      ]
     },
     "execution_count": 498,
     "metadata": {},
     "output_type": "execute_result"
    },
    {
     "data": {
      "image/png": "[encoded data removed]",
      "text/plain": [
       "<Figure size 1800x720 with 2 Axes>"
      ]
     },
     "metadata": {},
     "output_type": "display_data"
    }
   ],
   "source": [
    "# I inspect the abscence or not of a random pattern of missing values. \n",
    "# Apparently is random.\n",
    "\n",
    "import missingno as msno   \n",
    "\n",
    "# Plot correlation heatmap of missingness by objetive variable\n",
    "msno.matrix(df_winsor.sort_values(by='Transported'))"
   ]
  },
  {
   "cell_type": "code",
   "execution_count": 499,
   "id": "47699569",
   "metadata": {},
   "outputs": [
    {
     "data": {
      "text/plain": [
       "<matplotlib.axes._subplots.AxesSubplot at 0x7f87cd6eba60>"
      ]
     },
     "execution_count": 499,
     "metadata": {},
     "output_type": "execute_result"
    },
    {
     "data": {
      "image/png": "[encoded data removed]",
      "text/plain": [
       "<Figure size 1440x864 with 2 Axes>"
      ]
     },
     "metadata": {},
     "output_type": "display_data"
    }
   ],
   "source": [
    "msno.heatmap(df_winsor)"
   ]
  },
  {
   "cell_type": "code",
   "execution_count": 500,
   "id": "1c1052de",
   "metadata": {},
   "outputs": [],
   "source": [
    "# I split the DF in two (categorical and numeric) and drop the Target Variable in order to treat the missing values\n",
    "\n",
    "df_winsor_cont = df_winsor.select_dtypes(include = np.number)\n",
    "df_winsor_cate = df_winsor.select_dtypes(exclude = np.number)\n",
    "df_winsor_cate = df_winsor_cate.drop('Transported', axis=1)"
   ]
  },
  {
   "cell_type": "code",
   "execution_count": 501,
   "id": "a61173eb",
   "metadata": {},
   "outputs": [],
   "source": [
    "import sklearn.impute as skl_imp\n",
    "from sklearn.experimental import enable_iterative_imputer\n",
    "\n",
    "# I create an imputer for categorical variables. I will use the mode (most frequent) for the imputation of missings\n",
    "imputer_moda = skl_imp.SimpleImputer(strategy='most_frequent', missing_values=np.nan)\n",
    "\n",
    "# I create an imputer for numercial variables. I will use the KNN of 3 nearest neighbours for the imputation of missings\n",
    "imputer_knn = skl_imp.KNNImputer(n_neighbors=3)"
   ]
  },
  {
   "cell_type": "code",
   "execution_count": 502,
   "id": "a3858ea0",
   "metadata": {},
   "outputs": [],
   "source": [
    "# I apply them to the DF I have created before\n",
    "df_wins_knn_imputed = pd.DataFrame(imputer_knn.fit_transform(df_winsor_cont),columns=df_winsor_cont.columns)\n",
    "imput_wins_moda_imputed = pd.DataFrame(imputer_moda.fit_transform(df_winsor_cate),columns=df_winsor_cate.columns)"
   ]
  },
  {
   "cell_type": "code",
   "execution_count": 503,
   "id": "586aa94d",
   "metadata": {},
   "outputs": [
    {
     "data": {
      "text/plain": [
       "Age                 0\n",
       "RoomService         0\n",
       "FoodCourt           0\n",
       "ShoppingMall        0\n",
       "Spa                 0\n",
       "VRDeck              0\n",
       "HomePlanet          0\n",
       "CryoSleep           0\n",
       "Destination         0\n",
       "VIP                 0\n",
       "Cabin_Deck          0\n",
       "Cabin_Number        0\n",
       "Cabin_Side          0\n",
       "Passenger_Group     0\n",
       "Passenger_Number    0\n",
       "Transported         0\n",
       "dtype: int64"
      ]
     },
     "execution_count": 503,
     "metadata": {},
     "output_type": "execute_result"
    }
   ],
   "source": [
    "# Check the incidence of NaN values, which is 0. The imputers worked correctly.\n",
    "df_clean.isna().sum()"
   ]
  },
  {
   "cell_type": "code",
   "execution_count": 504,
   "id": "3082e91e",
   "metadata": {},
   "outputs": [],
   "source": [
    "# I join everything i a new DF (categorical, numeric and Target) and then I save it\n",
    "df_clean = df_wins_knn_imputed.join(imput_wins_moda_imputed)\n",
    "df_clean = df_clean.join(df['Transported'])"
   ]
  },
  {
   "cell_type": "code",
   "execution_count": 505,
   "id": "61846cb9",
   "metadata": {},
   "outputs": [],
   "source": [
    "df_clean.to_csv('/Users/inesmurcortes/Documents/inés/GitHub_Titanic/Spaceship_Titanic/Train_Clean.csv', mode='w', index=False)"
   ]
  },
  {
   "cell_type": "markdown",
   "id": "523fed1d",
   "metadata": {},
   "source": [
    "## Test DF Cleaning Process"
   ]
  },
  {
   "cell_type": "code",
   "execution_count": 506,
   "id": "3a9f7c85",
   "metadata": {},
   "outputs": [],
   "source": [
    "test = pd.read_csv('/Users/inesmurcortes/Documents/inés/GitHub_Titanic/Spaceship_Titanic/test.csv')"
   ]
  },
  {
   "cell_type": "code",
   "execution_count": 507,
   "id": "ac131300",
   "metadata": {},
   "outputs": [
    {
     "name": "stdout",
     "output_type": "stream",
     "text": [
      "<class 'pandas.core.frame.DataFrame'>\n",
      "RangeIndex: 4277 entries, 0 to 4276\n",
      "Data columns (total 13 columns):\n",
      " #   Column        Non-Null Count  Dtype  \n",
      "---  ------        --------------  -----  \n",
      " 0   PassengerId   4277 non-null   object \n",
      " 1   HomePlanet    4190 non-null   object \n",
      " 2   CryoSleep     4184 non-null   object \n",
      " 3   Cabin         4177 non-null   object \n",
      " 4   Destination   4185 non-null   object \n",
      " 5   Age           4186 non-null   float64\n",
      " 6   VIP           4184 non-null   object \n",
      " 7   RoomService   4195 non-null   float64\n",
      " 8   FoodCourt     4171 non-null   float64\n",
      " 9   ShoppingMall  4179 non-null   float64\n",
      " 10  Spa           4176 non-null   float64\n",
      " 11  VRDeck        4197 non-null   float64\n",
      " 12  Name          4183 non-null   object \n",
      "dtypes: float64(6), object(7)\n",
      "memory usage: 434.5+ KB\n"
     ]
    }
   ],
   "source": [
    "test.info()"
   ]
  },
  {
   "cell_type": "code",
   "execution_count": 508,
   "id": "fe622dbc",
   "metadata": {},
   "outputs": [],
   "source": [
    "test.drop(['Name'], axis=1, inplace=True)"
   ]
  },
  {
   "cell_type": "code",
   "execution_count": 509,
   "id": "8618e59b",
   "metadata": {},
   "outputs": [],
   "source": [
    "to_factor = list(test.loc[:, test.nunique()<10])\n",
    "test[to_factor] = test[to_factor].astype('category')"
   ]
  },
  {
   "cell_type": "code",
   "execution_count": 510,
   "id": "9bd776d1",
   "metadata": {},
   "outputs": [],
   "source": [
    "test.Cabin = test.Cabin.fillna('00/00/00')\n",
    "split_values = test.Cabin.str.split('/', expand=True)\n",
    "split_values = split_values.rename(columns={0:'Cabin_Deck', 1:'Cabin_Number', 2:'Cabin_Side'})"
   ]
  },
  {
   "cell_type": "code",
   "execution_count": 511,
   "id": "f0206705",
   "metadata": {},
   "outputs": [],
   "source": [
    "test = test.join(split_values)\n",
    "test.drop('Cabin', axis=1, inplace=True)"
   ]
  },
  {
   "cell_type": "code",
   "execution_count": 512,
   "id": "56625335",
   "metadata": {},
   "outputs": [],
   "source": [
    "split_values = test.PassengerId.str.split('_', expand=True)\n",
    "split_values = split_values.rename(columns={0:'Passenger_Group', 1:'Passenger_Number'})"
   ]
  },
  {
   "cell_type": "code",
   "execution_count": 513,
   "id": "b0a54964",
   "metadata": {},
   "outputs": [],
   "source": [
    "test = test.join(split_values)\n",
    "test.drop('PassengerId', axis=1, inplace=True)"
   ]
  },
  {
   "cell_type": "code",
   "execution_count": 514,
   "id": "1c325a92",
   "metadata": {},
   "outputs": [],
   "source": [
    "col_to_keep = ['Age', 'RoomService', 'FoodCourt', 'ShoppingMall', 'Spa', 'VRDeck']\n",
    "test_cont = test[col_to_keep].copy()"
   ]
  },
  {
   "cell_type": "code",
   "execution_count": 515,
   "id": "02c0ac8c",
   "metadata": {},
   "outputs": [
    {
     "name": "stdout",
     "output_type": "stream",
     "text": [
      "Age\n",
      "RoomService\n",
      "FoodCourt\n",
      "ShoppingMall\n",
      "Spa\n",
      "VRDeck\n"
     ]
    },
    {
     "data": {
      "text/html": [
       "<div>\n",
       "<style scoped>\n",
       "    .dataframe tbody tr th:only-of-type {\n",
       "        vertical-align: middle;\n",
       "    }\n",
       "\n",
       "    .dataframe tbody tr th {\n",
       "        vertical-align: top;\n",
       "    }\n",
       "\n",
       "    .dataframe thead th {\n",
       "        text-align: right;\n",
       "    }\n",
       "</style>\n",
       "<table border=\"1\" class=\"dataframe\">\n",
       "  <thead>\n",
       "    <tr style=\"text-align: right;\">\n",
       "      <th></th>\n",
       "      <th>Age</th>\n",
       "      <th>RoomService</th>\n",
       "      <th>FoodCourt</th>\n",
       "      <th>ShoppingMall</th>\n",
       "      <th>Spa</th>\n",
       "      <th>VRDeck</th>\n",
       "    </tr>\n",
       "  </thead>\n",
       "  <tbody>\n",
       "    <tr>\n",
       "      <th>0</th>\n",
       "      <td>0.0</td>\n",
       "      <td>0.00000</td>\n",
       "      <td>0.000000</td>\n",
       "      <td>0.000000</td>\n",
       "      <td>0.000000</td>\n",
       "      <td>0.000000</td>\n",
       "    </tr>\n",
       "    <tr>\n",
       "      <th>1</th>\n",
       "      <td>0.0</td>\n",
       "      <td>1.02503</td>\n",
       "      <td>2.013906</td>\n",
       "      <td>1.411821</td>\n",
       "      <td>1.772031</td>\n",
       "      <td>1.810817</td>\n",
       "    </tr>\n",
       "    <tr>\n",
       "      <th>2</th>\n",
       "      <td>0.0</td>\n",
       "      <td>1.02503</td>\n",
       "      <td>2.013906</td>\n",
       "      <td>1.411821</td>\n",
       "      <td>1.772031</td>\n",
       "      <td>1.810817</td>\n",
       "    </tr>\n",
       "  </tbody>\n",
       "</table>\n",
       "</div>"
      ],
      "text/plain": [
       "   Age  RoomService  FoodCourt  ShoppingMall       Spa    VRDeck\n",
       "0  0.0      0.00000   0.000000      0.000000  0.000000  0.000000\n",
       "1  0.0      1.02503   2.013906      1.411821  1.772031  1.810817\n",
       "2  0.0      1.02503   2.013906      1.411821  1.772031  1.810817"
      ]
     },
     "execution_count": 515,
     "metadata": {},
     "output_type": "execute_result"
    }
   ],
   "source": [
    "test_cont.select_dtypes(include=np.number).copy().apply(lambda x: gestiona_outliers(x))"
   ]
  },
  {
   "cell_type": "code",
   "execution_count": 516,
   "id": "f68853fa",
   "metadata": {},
   "outputs": [
    {
     "name": "stdout",
     "output_type": "stream",
     "text": [
      "Age\n",
      "RoomService\n",
      "FoodCourt\n",
      "ShoppingMall\n",
      "Spa\n",
      "VRDeck\n"
     ]
    }
   ],
   "source": [
    "test_cont_winsor = test_cont.apply(lambda x: gestiona_outliers(x,clas='winsor'))"
   ]
  },
  {
   "cell_type": "code",
   "execution_count": 517,
   "id": "151802b7",
   "metadata": {},
   "outputs": [],
   "source": [
    "test_winsor = test_cont_winsor.join(test.select_dtypes(exclude=np.number))"
   ]
  },
  {
   "cell_type": "code",
   "execution_count": 518,
   "id": "511a8cec",
   "metadata": {},
   "outputs": [
    {
     "data": {
      "text/plain": [
       "Age                 2.173913\n",
       "RoomService         1.954708\n",
       "FoodCourt           2.541357\n",
       "ShoppingMall        2.345059\n",
       "Spa                 2.418582\n",
       "VRDeck              1.906123\n",
       "HomePlanet          2.076372\n",
       "CryoSleep           2.222753\n",
       "Destination         2.198327\n",
       "VIP                 2.222753\n",
       "Cabin_Deck          0.000000\n",
       "Cabin_Number        0.000000\n",
       "Cabin_Side          0.000000\n",
       "Passenger_Group     0.000000\n",
       "Passenger_Number    0.000000\n",
       "dtype: float64"
      ]
     },
     "execution_count": 518,
     "metadata": {},
     "output_type": "execute_result"
    }
   ],
   "source": [
    "test_winsor.apply(lambda x: x.isna().sum()/x.count()*100)"
   ]
  },
  {
   "cell_type": "code",
   "execution_count": 519,
   "id": "dbeaec53",
   "metadata": {},
   "outputs": [],
   "source": [
    "test_winsor_cont = test_winsor.select_dtypes(include = np.number)\n",
    "test_winsor_cate = test_winsor.select_dtypes(exclude = np.number)"
   ]
  },
  {
   "cell_type": "code",
   "execution_count": 520,
   "id": "0fe66ceb",
   "metadata": {},
   "outputs": [],
   "source": [
    "imputer_moda_test = skl_imp.SimpleImputer(strategy='most_frequent', missing_values=np.nan)\n",
    "imputer_knn_test = skl_imp.KNNImputer(n_neighbors=3)"
   ]
  },
  {
   "cell_type": "code",
   "execution_count": 521,
   "id": "bb3b8449",
   "metadata": {},
   "outputs": [],
   "source": [
    "test_wins_knn_imputed = pd.DataFrame(imputer_knn_test.fit_transform(test_winsor_cont),columns=test_winsor_cont.columns)\n",
    "test_imput_wins_moda_imputed = pd.DataFrame(imputer_moda_test.fit_transform(test_winsor_cate),columns=test_winsor_cate.columns)"
   ]
  },
  {
   "cell_type": "code",
   "execution_count": 522,
   "id": "aa3b659a",
   "metadata": {},
   "outputs": [],
   "source": [
    "test_clean = test_wins_knn_imputed.join(test_imput_wins_moda_imputed)"
   ]
  },
  {
   "cell_type": "code",
   "execution_count": 523,
   "id": "e23279c9",
   "metadata": {
    "scrolled": true
   },
   "outputs": [
    {
     "data": {
      "text/plain": [
       "Age                 0\n",
       "RoomService         0\n",
       "FoodCourt           0\n",
       "ShoppingMall        0\n",
       "Spa                 0\n",
       "VRDeck              0\n",
       "HomePlanet          0\n",
       "CryoSleep           0\n",
       "Destination         0\n",
       "VIP                 0\n",
       "Cabin_Deck          0\n",
       "Cabin_Number        0\n",
       "Cabin_Side          0\n",
       "Passenger_Group     0\n",
       "Passenger_Number    0\n",
       "dtype: int64"
      ]
     },
     "execution_count": 523,
     "metadata": {},
     "output_type": "execute_result"
    }
   ],
   "source": [
    "test_clean.isnull().sum()"
   ]
  },
  {
   "cell_type": "code",
   "execution_count": 524,
   "id": "993fb3fb",
   "metadata": {},
   "outputs": [],
   "source": [
    "test_clean.to_csv('/Users/inesmurcortes/Documents/inés/GitHub_Titanic/Spaceship_Titanic/Test_Clean.csv', mode='w', index=False)"
   ]
  },
  {
   "cell_type": "markdown",
   "id": "966c0401",
   "metadata": {},
   "source": [
    "## Training Models with Neural Networks"
   ]
  },
  {
   "cell_type": "code",
   "execution_count": 525,
   "id": "2fccebf8",
   "metadata": {},
   "outputs": [],
   "source": [
    "ctrain = pd.read_csv('/Users/inesmurcortes/Documents/inés/GitHub_Titanic/Spaceship_Titanic/Train_Clean.csv')\n",
    "ctest = pd.read_csv('/Users/inesmurcortes/Documents/inés/GitHub_Titanic/Spaceship_Titanic/Test_Clean.csv')"
   ]
  },
  {
   "cell_type": "code",
   "execution_count": 527,
   "id": "464692f6",
   "metadata": {},
   "outputs": [
    {
     "name": "stdout",
     "output_type": "stream",
     "text": [
      "<class 'pandas.core.frame.DataFrame'>\n",
      "RangeIndex: 8693 entries, 0 to 8692\n",
      "Data columns (total 16 columns):\n",
      " #   Column            Non-Null Count  Dtype  \n",
      "---  ------            --------------  -----  \n",
      " 0   Age               8693 non-null   float64\n",
      " 1   RoomService       8693 non-null   float64\n",
      " 2   FoodCourt         8693 non-null   float64\n",
      " 3   ShoppingMall      8693 non-null   float64\n",
      " 4   Spa               8693 non-null   float64\n",
      " 5   VRDeck            8693 non-null   float64\n",
      " 6   HomePlanet        8693 non-null   object \n",
      " 7   CryoSleep         8693 non-null   bool   \n",
      " 8   Destination       8693 non-null   object \n",
      " 9   VIP               8693 non-null   bool   \n",
      " 10  Cabin_Deck        8693 non-null   object \n",
      " 11  Cabin_Number      8693 non-null   int64  \n",
      " 12  Cabin_Side        8693 non-null   object \n",
      " 13  Passenger_Group   8693 non-null   int64  \n",
      " 14  Passenger_Number  8693 non-null   int64  \n",
      " 15  Transported       8693 non-null   bool   \n",
      "dtypes: bool(3), float64(6), int64(3), object(4)\n",
      "memory usage: 908.5+ KB\n"
     ]
    }
   ],
   "source": [
    "ctrain.info()"
   ]
  },
  {
   "cell_type": "code",
   "execution_count": 528,
   "id": "c0a08b41",
   "metadata": {},
   "outputs": [
    {
     "data": {
      "text/plain": [
       "['HomePlanet',\n",
       " 'CryoSleep',\n",
       " 'Destination',\n",
       " 'VIP',\n",
       " 'Cabin_Deck',\n",
       " 'Cabin_Side',\n",
       " 'Transported']"
      ]
     },
     "execution_count": 528,
     "metadata": {},
     "output_type": "execute_result"
    }
   ],
   "source": [
    "# In order to use an encoder for non numerical values, I store them in a list\n",
    "categorical_columns = ctrain.select_dtypes(include=['object', 'bool']).columns.tolist()\n",
    "categorical_columns"
   ]
  },
  {
   "cell_type": "code",
   "execution_count": 529,
   "id": "9d3db4e3",
   "metadata": {},
   "outputs": [],
   "source": [
    "encoder = LabelEncoder()\n",
    "\n",
    "# I apply Label Encoding to categorical columns\n",
    "ctrain[categorical_columns] = ctrain[categorical_columns].apply(encoder.fit_transform)"
   ]
  },
  {
   "cell_type": "code",
   "execution_count": 530,
   "id": "45bcad5f",
   "metadata": {},
   "outputs": [
    {
     "data": {
      "text/html": [
       "<div>\n",
       "<style scoped>\n",
       "    .dataframe tbody tr th:only-of-type {\n",
       "        vertical-align: middle;\n",
       "    }\n",
       "\n",
       "    .dataframe tbody tr th {\n",
       "        vertical-align: top;\n",
       "    }\n",
       "\n",
       "    .dataframe thead th {\n",
       "        text-align: right;\n",
       "    }\n",
       "</style>\n",
       "<table border=\"1\" class=\"dataframe\">\n",
       "  <thead>\n",
       "    <tr style=\"text-align: right;\">\n",
       "      <th></th>\n",
       "      <th>Age</th>\n",
       "      <th>RoomService</th>\n",
       "      <th>FoodCourt</th>\n",
       "      <th>ShoppingMall</th>\n",
       "      <th>Spa</th>\n",
       "      <th>VRDeck</th>\n",
       "      <th>HomePlanet</th>\n",
       "      <th>CryoSleep</th>\n",
       "      <th>Destination</th>\n",
       "      <th>VIP</th>\n",
       "      <th>Cabin_Deck</th>\n",
       "      <th>Cabin_Number</th>\n",
       "      <th>Cabin_Side</th>\n",
       "      <th>Passenger_Group</th>\n",
       "      <th>Passenger_Number</th>\n",
       "      <th>Transported</th>\n",
       "    </tr>\n",
       "  </thead>\n",
       "  <tbody>\n",
       "    <tr>\n",
       "      <th>0</th>\n",
       "      <td>39.0</td>\n",
       "      <td>0.0</td>\n",
       "      <td>0.0</td>\n",
       "      <td>0.0</td>\n",
       "      <td>0.0</td>\n",
       "      <td>0.0</td>\n",
       "      <td>1</td>\n",
       "      <td>0</td>\n",
       "      <td>2</td>\n",
       "      <td>0</td>\n",
       "      <td>2</td>\n",
       "      <td>0</td>\n",
       "      <td>1</td>\n",
       "      <td>1</td>\n",
       "      <td>1</td>\n",
       "      <td>0</td>\n",
       "    </tr>\n",
       "    <tr>\n",
       "      <th>1</th>\n",
       "      <td>24.0</td>\n",
       "      <td>109.0</td>\n",
       "      <td>9.0</td>\n",
       "      <td>25.0</td>\n",
       "      <td>549.0</td>\n",
       "      <td>44.0</td>\n",
       "      <td>0</td>\n",
       "      <td>0</td>\n",
       "      <td>2</td>\n",
       "      <td>0</td>\n",
       "      <td>6</td>\n",
       "      <td>0</td>\n",
       "      <td>2</td>\n",
       "      <td>2</td>\n",
       "      <td>1</td>\n",
       "      <td>1</td>\n",
       "    </tr>\n",
       "    <tr>\n",
       "      <th>2</th>\n",
       "      <td>58.0</td>\n",
       "      <td>43.0</td>\n",
       "      <td>3576.0</td>\n",
       "      <td>0.0</td>\n",
       "      <td>3926.0</td>\n",
       "      <td>49.0</td>\n",
       "      <td>1</td>\n",
       "      <td>0</td>\n",
       "      <td>2</td>\n",
       "      <td>1</td>\n",
       "      <td>1</td>\n",
       "      <td>0</td>\n",
       "      <td>2</td>\n",
       "      <td>3</td>\n",
       "      <td>1</td>\n",
       "      <td>0</td>\n",
       "    </tr>\n",
       "    <tr>\n",
       "      <th>3</th>\n",
       "      <td>33.0</td>\n",
       "      <td>0.0</td>\n",
       "      <td>1283.0</td>\n",
       "      <td>371.0</td>\n",
       "      <td>3329.0</td>\n",
       "      <td>193.0</td>\n",
       "      <td>1</td>\n",
       "      <td>0</td>\n",
       "      <td>2</td>\n",
       "      <td>0</td>\n",
       "      <td>1</td>\n",
       "      <td>0</td>\n",
       "      <td>2</td>\n",
       "      <td>3</td>\n",
       "      <td>2</td>\n",
       "      <td>0</td>\n",
       "    </tr>\n",
       "    <tr>\n",
       "      <th>4</th>\n",
       "      <td>16.0</td>\n",
       "      <td>303.0</td>\n",
       "      <td>70.0</td>\n",
       "      <td>151.0</td>\n",
       "      <td>565.0</td>\n",
       "      <td>2.0</td>\n",
       "      <td>0</td>\n",
       "      <td>0</td>\n",
       "      <td>2</td>\n",
       "      <td>0</td>\n",
       "      <td>6</td>\n",
       "      <td>1</td>\n",
       "      <td>2</td>\n",
       "      <td>4</td>\n",
       "      <td>1</td>\n",
       "      <td>1</td>\n",
       "    </tr>\n",
       "  </tbody>\n",
       "</table>\n",
       "</div>"
      ],
      "text/plain": [
       "    Age  RoomService  FoodCourt  ShoppingMall     Spa  VRDeck  HomePlanet  \\\n",
       "0  39.0          0.0        0.0           0.0     0.0     0.0           1   \n",
       "1  24.0        109.0        9.0          25.0   549.0    44.0           0   \n",
       "2  58.0         43.0     3576.0           0.0  3926.0    49.0           1   \n",
       "3  33.0          0.0     1283.0         371.0  3329.0   193.0           1   \n",
       "4  16.0        303.0       70.0         151.0   565.0     2.0           0   \n",
       "\n",
       "   CryoSleep  Destination  VIP  Cabin_Deck  Cabin_Number  Cabin_Side  \\\n",
       "0          0            2    0           2             0           1   \n",
       "1          0            2    0           6             0           2   \n",
       "2          0            2    1           1             0           2   \n",
       "3          0            2    0           1             0           2   \n",
       "4          0            2    0           6             1           2   \n",
       "\n",
       "   Passenger_Group  Passenger_Number  Transported  \n",
       "0                1                 1            0  \n",
       "1                2                 1            1  \n",
       "2                3                 1            0  \n",
       "3                3                 2            0  \n",
       "4                4                 1            1  "
      ]
     },
     "execution_count": 530,
     "metadata": {},
     "output_type": "execute_result"
    }
   ],
   "source": [
    "ctrain.head()"
   ]
  },
  {
   "cell_type": "markdown",
   "id": "8df37d43",
   "metadata": {},
   "source": [
    "### Pretesting the models with Train DF"
   ]
  },
  {
   "cell_type": "code",
   "execution_count": 531,
   "id": "f8d2216a",
   "metadata": {},
   "outputs": [],
   "source": [
    "# I'm going to work with X and Y from the Train dataset to first know how the model is responding\n",
    "X = ctrain.drop('Transported', axis=1)\n",
    "y = ctrain.pop('Transported')\n",
    "\n",
    "# I will use a 20% of the train DF as my test DF\n",
    "X_train, X_test, y_train, y_test = train_test_split(X, y, test_size=0.2, random_state=1965)"
   ]
  },
  {
   "cell_type": "code",
   "execution_count": 532,
   "id": "6018d26a",
   "metadata": {},
   "outputs": [],
   "source": [
    "model = tf.keras.models.Sequential()\n",
    "\n",
    "input_dim = X_train.shape[1]\n",
    "\n",
    "model.add(layers.Dense(units=128, activation='relu', input_dim=input_dim))\n",
    "model.add(layers.Dense(units=564, activation='relu'))\n",
    "model.add(layers.Dense(units=564, activation='relu'))\n",
    "model.add(layers.Dense(units=128, activation='relu'))\n",
    "\n",
    "model.add(layers.Dense(units=1, activation='sigmoid'))\n",
    "\n",
    "es_callback = keras.callbacks.EarlyStopping(\n",
    "    monitor='accuracy', \n",
    "    patience=15,  # if during 15 epochs there is no improvement in `val_loss`, the execution will stop\n",
    "    verbose=1)"
   ]
  },
  {
   "cell_type": "code",
   "execution_count": 633,
   "id": "90c24379",
   "metadata": {},
   "outputs": [
    {
     "ename": "NameError",
     "evalue": "name 'X_train_processed_2' is not defined",
     "output_type": "error",
     "traceback": [
      "\u001b[0;31m---------------------------------------------------------------------------\u001b[0m",
      "\u001b[0;31mNameError\u001b[0m                                 Traceback (most recent call last)",
      "Input \u001b[0;32mIn [633]\u001b[0m, in \u001b[0;36m<cell line: 6>\u001b[0;34m()\u001b[0m\n\u001b[1;32m      1\u001b[0m model\u001b[38;5;241m.\u001b[39mcompile(\n\u001b[1;32m      2\u001b[0m     optimizer\u001b[38;5;241m=\u001b[39m\u001b[38;5;124m'\u001b[39m\u001b[38;5;124madam\u001b[39m\u001b[38;5;124m'\u001b[39m,\n\u001b[1;32m      3\u001b[0m     loss\u001b[38;5;241m=\u001b[39m\u001b[38;5;124m'\u001b[39m\u001b[38;5;124mbinary_crossentropy\u001b[39m\u001b[38;5;124m'\u001b[39m, \n\u001b[1;32m      4\u001b[0m     metrics\u001b[38;5;241m=\u001b[39m[\u001b[38;5;124m'\u001b[39m\u001b[38;5;124maccuracy\u001b[39m\u001b[38;5;124m'\u001b[39m]\n\u001b[1;32m      5\u001b[0m )\n\u001b[0;32m----> 6\u001b[0m model\u001b[38;5;241m.\u001b[39mfit(\u001b[43mX_train_processed_2\u001b[49m, \n\u001b[1;32m      7\u001b[0m           y_train, \n\u001b[1;32m      8\u001b[0m           epochs\u001b[38;5;241m=\u001b[39m\u001b[38;5;241m250\u001b[39m, \n\u001b[1;32m      9\u001b[0m           validation_split \u001b[38;5;241m=\u001b[39m \u001b[38;5;241m0.2\u001b[39m, \n\u001b[1;32m     10\u001b[0m           batch_size\u001b[38;5;241m=\u001b[39m\u001b[38;5;241m64\u001b[39m,\n\u001b[1;32m     11\u001b[0m           callbacks \u001b[38;5;241m=\u001b[39m [es_callback])\n",
      "\u001b[0;31mNameError\u001b[0m: name 'X_train_processed_2' is not defined"
     ]
    }
   ],
   "source": [
    "model.compile(\n",
    "    optimizer='adam',\n",
    "    loss='binary_crossentropy', \n",
    "    metrics=['accuracy']\n",
    ")\n",
    "model.fit(X_train, \n",
    "          y_train, \n",
    "          epochs=250, \n",
    "          validation_split = 0.2, \n",
    "          batch_size=64,\n",
    "          callbacks = [es_callback])"
   ]
  },
  {
   "cell_type": "code",
   "execution_count": 534,
   "id": "addff901",
   "metadata": {},
   "outputs": [
    {
     "name": "stdout",
     "output_type": "stream",
     "text": [
      "Test Loss: 0.4487501084804535\n",
      "Test Accuracy: 0.8016968369483948\n"
     ]
    }
   ],
   "source": [
    "results = model.evaluate(X_train, y_train, verbose=0)\n",
    "print('Test Loss: {}'.format(results[0]))\n",
    "print('Test Accuracy: {}'.format(results[1]))"
   ]
  },
  {
   "cell_type": "markdown",
   "id": "305a7bb7",
   "metadata": {},
   "source": [
    "### Testing the final model with Test DF and Kaggle "
   ]
  },
  {
   "cell_type": "code",
   "execution_count": 586,
   "id": "22c79a65",
   "metadata": {},
   "outputs": [],
   "source": [
    "train = pd.read_csv('/Users/inesmurcortes/Documents/inés/GitHub_Titanic/Spaceship_Titanic/Train_Clean.csv')\n",
    "test = pd.read_csv('/Users/inesmurcortes/Documents/inés/GitHub_Titanic/Spaceship_Titanic/Test_Clean.csv')"
   ]
  },
  {
   "cell_type": "code",
   "execution_count": 587,
   "id": "6a7568ad",
   "metadata": {},
   "outputs": [],
   "source": [
    "X_train = train.drop(['Transported'], axis=1)\n",
    "y_train = train.pop('Transported')\n",
    "\n",
    "X_test = test\n",
    "y_test = None"
   ]
  },
  {
   "cell_type": "code",
   "execution_count": 588,
   "id": "5df5e76a",
   "metadata": {},
   "outputs": [
    {
     "data": {
      "text/plain": [
       "['HomePlanet', 'CryoSleep', 'Destination', 'VIP', 'Cabin_Deck', 'Cabin_Side']"
      ]
     },
     "execution_count": 588,
     "metadata": {},
     "output_type": "execute_result"
    }
   ],
   "source": [
    "# Finally, I will apply the model i defined before and apply to the Test DF\n",
    "categorical_columns = X_test.select_dtypes(include=['object', 'bool']).columns.tolist()\n",
    "categorical_columns"
   ]
  },
  {
   "cell_type": "code",
   "execution_count": 589,
   "id": "41fe0609",
   "metadata": {},
   "outputs": [],
   "source": [
    "encoder = LabelEncoder()\n",
    "\n",
    "# I apply Label Encoding to categorical columns in X_test and X_train\n",
    "X_test[categorical_columns] = X_test[categorical_columns].apply(encoder.fit_transform)\n",
    "X_train[categorical_columns] = X_train[categorical_columns].apply(encoder.fit_transform)"
   ]
  },
  {
   "cell_type": "code",
   "execution_count": 590,
   "id": "a6d687f3",
   "metadata": {},
   "outputs": [],
   "source": [
    "y_train.replace({True:1, False:0}, inplace=True)"
   ]
  },
  {
   "cell_type": "code",
   "execution_count": 591,
   "id": "9c91c179",
   "metadata": {},
   "outputs": [
    {
     "data": {
      "text/plain": [
       "0    0\n",
       "1    1\n",
       "2    0\n",
       "3    0\n",
       "4    1\n",
       "Name: Transported, dtype: int64"
      ]
     },
     "execution_count": 591,
     "metadata": {},
     "output_type": "execute_result"
    }
   ],
   "source": [
    "y_train.head()"
   ]
  },
  {
   "cell_type": "code",
   "execution_count": 592,
   "id": "a694520e",
   "metadata": {},
   "outputs": [
    {
     "name": "stdout",
     "output_type": "stream",
     "text": [
      "x_train, y_train shapes: (8693, 15) (8693,)\n",
      "x_test, y_test shapes: (4277, 15)\n",
      "Some qualities:  0    0\n",
      "1    1\n",
      "2    0\n",
      "3    0\n",
      "4    1\n",
      "Name: Transported, dtype: int64\n"
     ]
    }
   ],
   "source": [
    "print('x_train, y_train shapes:', X_train.shape, y_train.shape)\n",
    "print('x_test, y_test shapes:', X_test.shape)\n",
    "print('Some qualities: ', y_train[:5])"
   ]
  },
  {
   "cell_type": "code",
   "execution_count": 615,
   "id": "dbae4f8f",
   "metadata": {},
   "outputs": [],
   "source": [
    "model = tf.keras.models.Sequential()\n",
    "\n",
    "input_dim = X_train.shape[1]\n",
    "\n",
    "model.add(layers.Dense(units=64, activation='relu', input_dim=input_dim))\n",
    "model.add(layers.Dense(units=128, activation='relu'))\n",
    "model.add(layers.Dense(units=128, activation='relu'))\n",
    "model.add(layers.Dense(units=32, activation='relu'))\n",
    "\n",
    "model.add(layers.Dense(units=1, activation='sigmoid'))\n",
    "\n",
    "es_callback = keras.callbacks.EarlyStopping(\n",
    "    monitor='accuracy', \n",
    "    patience=15,  # if during 15 epochs there is no improvement in `val_loss`, the execution will stop\n",
    "    verbose=1)"
   ]
  },
  {
   "cell_type": "code",
   "execution_count": 616,
   "id": "8b4dad10",
   "metadata": {},
   "outputs": [
    {
     "name": "stdout",
     "output_type": "stream",
     "text": [
      "Epoch 1/250\n",
      "109/109 [==============================] - 1s 2ms/step - loss: 9.0509 - accuracy: 0.6917 - val_loss: 1.4482 - val_accuracy: 0.7372\n",
      "Epoch 2/250\n",
      "109/109 [==============================] - 0s 2ms/step - loss: 2.4614 - accuracy: 0.6938 - val_loss: 1.6526 - val_accuracy: 0.7447\n",
      "Epoch 3/250\n",
      "109/109 [==============================] - 0s 2ms/step - loss: 1.2716 - accuracy: 0.7115 - val_loss: 2.2348 - val_accuracy: 0.6095\n",
      "Epoch 4/250\n",
      "109/109 [==============================] - 0s 2ms/step - loss: 1.4097 - accuracy: 0.7110 - val_loss: 1.1833 - val_accuracy: 0.7079\n",
      "Epoch 5/250\n",
      "109/109 [==============================] - 0s 2ms/step - loss: 1.0189 - accuracy: 0.7258 - val_loss: 0.9611 - val_accuracy: 0.7746\n",
      "Epoch 6/250\n",
      "109/109 [==============================] - 0s 2ms/step - loss: 0.8699 - accuracy: 0.7403 - val_loss: 1.2717 - val_accuracy: 0.7269\n",
      "Epoch 7/250\n",
      "109/109 [==============================] - 0s 2ms/step - loss: 1.0129 - accuracy: 0.7245 - val_loss: 3.0509 - val_accuracy: 0.5957\n",
      "Epoch 8/250\n",
      "109/109 [==============================] - 0s 2ms/step - loss: 0.9251 - accuracy: 0.7322 - val_loss: 2.4724 - val_accuracy: 0.6038\n",
      "Epoch 9/250\n",
      "109/109 [==============================] - 0s 1ms/step - loss: 0.8738 - accuracy: 0.7340 - val_loss: 0.8560 - val_accuracy: 0.7706\n",
      "Epoch 10/250\n",
      "109/109 [==============================] - 0s 1ms/step - loss: 0.6814 - accuracy: 0.7554 - val_loss: 1.2358 - val_accuracy: 0.6751\n",
      "Epoch 11/250\n",
      "109/109 [==============================] - 0s 1ms/step - loss: 0.6906 - accuracy: 0.7485 - val_loss: 1.1779 - val_accuracy: 0.6509\n",
      "Epoch 12/250\n",
      "109/109 [==============================] - 0s 2ms/step - loss: 0.6350 - accuracy: 0.7545 - val_loss: 0.6180 - val_accuracy: 0.7591\n",
      "Epoch 13/250\n",
      "109/109 [==============================] - 0s 2ms/step - loss: 0.6672 - accuracy: 0.7534 - val_loss: 0.8148 - val_accuracy: 0.6906\n",
      "Epoch 14/250\n",
      "109/109 [==============================] - 0s 2ms/step - loss: 0.5889 - accuracy: 0.7634 - val_loss: 0.5385 - val_accuracy: 0.7815\n",
      "Epoch 15/250\n",
      "109/109 [==============================] - 0s 2ms/step - loss: 0.5749 - accuracy: 0.7609 - val_loss: 1.5015 - val_accuracy: 0.6003\n",
      "Epoch 16/250\n",
      "109/109 [==============================] - 0s 2ms/step - loss: 0.6049 - accuracy: 0.7599 - val_loss: 0.5456 - val_accuracy: 0.7441\n",
      "Epoch 17/250\n",
      "109/109 [==============================] - 0s 2ms/step - loss: 0.5452 - accuracy: 0.7640 - val_loss: 0.8218 - val_accuracy: 0.6561\n",
      "Epoch 18/250\n",
      "109/109 [==============================] - 0s 2ms/step - loss: 0.5640 - accuracy: 0.7610 - val_loss: 1.0351 - val_accuracy: 0.6688\n",
      "Epoch 19/250\n",
      "109/109 [==============================] - 0s 2ms/step - loss: 0.5871 - accuracy: 0.7583 - val_loss: 0.6125 - val_accuracy: 0.7447\n",
      "Epoch 20/250\n",
      "109/109 [==============================] - 0s 2ms/step - loss: 0.6206 - accuracy: 0.7466 - val_loss: 0.5646 - val_accuracy: 0.7562\n",
      "Epoch 21/250\n",
      "109/109 [==============================] - 0s 2ms/step - loss: 0.5715 - accuracy: 0.7529 - val_loss: 0.5905 - val_accuracy: 0.7487\n",
      "Epoch 22/250\n",
      "109/109 [==============================] - 0s 2ms/step - loss: 0.5328 - accuracy: 0.7726 - val_loss: 1.6130 - val_accuracy: 0.5699\n",
      "Epoch 23/250\n",
      "109/109 [==============================] - 0s 2ms/step - loss: 0.5379 - accuracy: 0.7725 - val_loss: 0.5927 - val_accuracy: 0.7562\n",
      "Epoch 24/250\n",
      "109/109 [==============================] - 0s 2ms/step - loss: 0.5023 - accuracy: 0.7790 - val_loss: 0.5384 - val_accuracy: 0.7602\n",
      "Epoch 25/250\n",
      "109/109 [==============================] - 0s 2ms/step - loss: 0.4951 - accuracy: 0.7794 - val_loss: 1.0757 - val_accuracy: 0.6435\n",
      "Epoch 26/250\n",
      "109/109 [==============================] - 0s 2ms/step - loss: 0.5453 - accuracy: 0.7672 - val_loss: 0.5903 - val_accuracy: 0.7706\n",
      "Epoch 27/250\n",
      "109/109 [==============================] - 0s 2ms/step - loss: 0.5041 - accuracy: 0.7770 - val_loss: 0.4904 - val_accuracy: 0.7798\n",
      "Epoch 28/250\n",
      "109/109 [==============================] - 0s 2ms/step - loss: 0.5149 - accuracy: 0.7721 - val_loss: 0.5482 - val_accuracy: 0.7602\n",
      "Epoch 29/250\n",
      "109/109 [==============================] - 0s 2ms/step - loss: 0.5042 - accuracy: 0.7781 - val_loss: 0.4567 - val_accuracy: 0.7861\n",
      "Epoch 30/250\n",
      "109/109 [==============================] - 0s 2ms/step - loss: 0.5024 - accuracy: 0.7811 - val_loss: 0.5183 - val_accuracy: 0.7522\n",
      "Epoch 31/250\n",
      "109/109 [==============================] - 0s 2ms/step - loss: 0.4952 - accuracy: 0.7791 - val_loss: 0.5133 - val_accuracy: 0.7849\n",
      "Epoch 32/250\n",
      "109/109 [==============================] - 0s 2ms/step - loss: 0.4985 - accuracy: 0.7770 - val_loss: 0.4600 - val_accuracy: 0.7930\n",
      "Epoch 33/250\n",
      "109/109 [==============================] - 0s 2ms/step - loss: 0.4770 - accuracy: 0.7892 - val_loss: 0.7820 - val_accuracy: 0.6866\n",
      "Epoch 34/250\n",
      "109/109 [==============================] - 0s 2ms/step - loss: 0.5002 - accuracy: 0.7734 - val_loss: 0.4905 - val_accuracy: 0.7798\n",
      "Epoch 35/250\n",
      "109/109 [==============================] - 0s 2ms/step - loss: 0.4798 - accuracy: 0.7857 - val_loss: 0.4625 - val_accuracy: 0.7809\n",
      "Epoch 36/250\n",
      "109/109 [==============================] - 0s 2ms/step - loss: 0.4882 - accuracy: 0.7798 - val_loss: 0.4882 - val_accuracy: 0.7803\n",
      "Epoch 37/250\n",
      "109/109 [==============================] - 0s 2ms/step - loss: 0.4732 - accuracy: 0.7890 - val_loss: 0.5989 - val_accuracy: 0.7378\n",
      "Epoch 38/250\n",
      "109/109 [==============================] - 0s 2ms/step - loss: 0.4795 - accuracy: 0.7834 - val_loss: 0.5203 - val_accuracy: 0.7458\n",
      "Epoch 39/250\n",
      "109/109 [==============================] - 0s 1ms/step - loss: 0.4932 - accuracy: 0.7796 - val_loss: 0.5242 - val_accuracy: 0.7499\n",
      "Epoch 40/250\n",
      "109/109 [==============================] - 0s 1ms/step - loss: 0.5003 - accuracy: 0.7798 - val_loss: 0.5072 - val_accuracy: 0.7861\n",
      "Epoch 41/250\n",
      "109/109 [==============================] - 0s 1ms/step - loss: 0.4664 - accuracy: 0.7908 - val_loss: 0.6856 - val_accuracy: 0.7171\n",
      "Epoch 42/250\n",
      "109/109 [==============================] - 0s 1ms/step - loss: 0.4626 - accuracy: 0.7880 - val_loss: 0.5097 - val_accuracy: 0.7798\n",
      "Epoch 43/250\n",
      "109/109 [==============================] - 0s 1ms/step - loss: 0.4779 - accuracy: 0.7839 - val_loss: 0.4807 - val_accuracy: 0.7763\n",
      "Epoch 44/250\n",
      "109/109 [==============================] - 0s 1ms/step - loss: 0.4762 - accuracy: 0.7790 - val_loss: 0.8344 - val_accuracy: 0.6325\n",
      "Epoch 45/250\n",
      "109/109 [==============================] - 0s 1ms/step - loss: 0.4596 - accuracy: 0.7895 - val_loss: 0.4725 - val_accuracy: 0.7809\n",
      "Epoch 46/250\n",
      "109/109 [==============================] - 0s 1ms/step - loss: 0.4606 - accuracy: 0.7934 - val_loss: 0.7459 - val_accuracy: 0.7056\n",
      "Epoch 47/250\n",
      "109/109 [==============================] - 0s 1ms/step - loss: 0.4506 - accuracy: 0.7913 - val_loss: 0.5007 - val_accuracy: 0.7752\n",
      "Epoch 48/250\n",
      "109/109 [==============================] - 0s 1ms/step - loss: 0.4503 - accuracy: 0.7909 - val_loss: 0.8874 - val_accuracy: 0.6371\n",
      "Epoch 49/250\n",
      "109/109 [==============================] - 0s 1ms/step - loss: 0.4596 - accuracy: 0.7895 - val_loss: 0.7346 - val_accuracy: 0.6918\n",
      "Epoch 50/250\n",
      "109/109 [==============================] - 0s 1ms/step - loss: 0.4579 - accuracy: 0.7854 - val_loss: 0.4570 - val_accuracy: 0.7890\n",
      "Epoch 51/250\n",
      "109/109 [==============================] - 0s 1ms/step - loss: 0.4469 - accuracy: 0.7885 - val_loss: 0.6493 - val_accuracy: 0.6975\n",
      "Epoch 52/250\n",
      "109/109 [==============================] - 0s 1ms/step - loss: 0.4657 - accuracy: 0.7886 - val_loss: 0.5930 - val_accuracy: 0.7027\n",
      "Epoch 53/250\n",
      "109/109 [==============================] - 0s 2ms/step - loss: 0.4716 - accuracy: 0.7873 - val_loss: 0.4674 - val_accuracy: 0.7723\n",
      "Epoch 54/250\n",
      "109/109 [==============================] - 0s 1ms/step - loss: 0.4586 - accuracy: 0.7836 - val_loss: 0.6144 - val_accuracy: 0.7119\n",
      "Epoch 55/250\n",
      "109/109 [==============================] - 0s 1ms/step - loss: 0.4629 - accuracy: 0.7880 - val_loss: 0.6725 - val_accuracy: 0.7033\n",
      "Epoch 56/250\n",
      "109/109 [==============================] - 0s 1ms/step - loss: 0.4480 - accuracy: 0.7939 - val_loss: 0.5476 - val_accuracy: 0.7585\n",
      "Epoch 57/250\n",
      "109/109 [==============================] - 0s 1ms/step - loss: 0.4484 - accuracy: 0.7916 - val_loss: 0.5303 - val_accuracy: 0.7470\n"
     ]
    },
    {
     "name": "stdout",
     "output_type": "stream",
     "text": [
      "Epoch 58/250\n",
      "109/109 [==============================] - 0s 1ms/step - loss: 0.4581 - accuracy: 0.7877 - val_loss: 0.4941 - val_accuracy: 0.7821\n",
      "Epoch 59/250\n",
      "109/109 [==============================] - 0s 1ms/step - loss: 0.4569 - accuracy: 0.7912 - val_loss: 0.5236 - val_accuracy: 0.7608\n",
      "Epoch 60/250\n",
      "109/109 [==============================] - 0s 1ms/step - loss: 0.4531 - accuracy: 0.7915 - val_loss: 0.5119 - val_accuracy: 0.7706\n",
      "Epoch 61/250\n",
      "109/109 [==============================] - 0s 1ms/step - loss: 0.4398 - accuracy: 0.7941 - val_loss: 0.4920 - val_accuracy: 0.7809\n",
      "Epoch 62/250\n",
      "109/109 [==============================] - 0s 1ms/step - loss: 0.4606 - accuracy: 0.7850 - val_loss: 0.4836 - val_accuracy: 0.7941\n",
      "Epoch 63/250\n",
      "109/109 [==============================] - 0s 1ms/step - loss: 0.4710 - accuracy: 0.7834 - val_loss: 0.5491 - val_accuracy: 0.7677\n",
      "Epoch 64/250\n",
      "109/109 [==============================] - 0s 2ms/step - loss: 0.4540 - accuracy: 0.7893 - val_loss: 0.4647 - val_accuracy: 0.7740\n",
      "Epoch 65/250\n",
      "109/109 [==============================] - 0s 1ms/step - loss: 0.4583 - accuracy: 0.7921 - val_loss: 0.5544 - val_accuracy: 0.7384\n",
      "Epoch 66/250\n",
      "109/109 [==============================] - 0s 1ms/step - loss: 0.4530 - accuracy: 0.7862 - val_loss: 0.5370 - val_accuracy: 0.7395\n",
      "Epoch 67/250\n",
      "109/109 [==============================] - 0s 1ms/step - loss: 0.4474 - accuracy: 0.7942 - val_loss: 0.4893 - val_accuracy: 0.7815\n",
      "Epoch 68/250\n",
      "109/109 [==============================] - 0s 1ms/step - loss: 0.4333 - accuracy: 0.7949 - val_loss: 0.6035 - val_accuracy: 0.7608\n",
      "Epoch 69/250\n",
      "109/109 [==============================] - 0s 1ms/step - loss: 0.4437 - accuracy: 0.7922 - val_loss: 0.5604 - val_accuracy: 0.7729\n",
      "Epoch 70/250\n",
      "109/109 [==============================] - 0s 1ms/step - loss: 0.4348 - accuracy: 0.7987 - val_loss: 0.5285 - val_accuracy: 0.7711\n",
      "Epoch 71/250\n",
      "109/109 [==============================] - 0s 1ms/step - loss: 0.4328 - accuracy: 0.7967 - val_loss: 0.4525 - val_accuracy: 0.7872\n",
      "Epoch 72/250\n",
      "109/109 [==============================] - 0s 1ms/step - loss: 0.4345 - accuracy: 0.7975 - val_loss: 0.7093 - val_accuracy: 0.7050\n",
      "Epoch 73/250\n",
      "109/109 [==============================] - 0s 1ms/step - loss: 0.4429 - accuracy: 0.7916 - val_loss: 0.6563 - val_accuracy: 0.7568\n",
      "Epoch 74/250\n",
      "109/109 [==============================] - 0s 1ms/step - loss: 0.4324 - accuracy: 0.7886 - val_loss: 0.4453 - val_accuracy: 0.7826\n",
      "Epoch 75/250\n",
      "109/109 [==============================] - 0s 1ms/step - loss: 0.4315 - accuracy: 0.7974 - val_loss: 0.5551 - val_accuracy: 0.7614\n",
      "Epoch 76/250\n",
      "109/109 [==============================] - 0s 1ms/step - loss: 0.4317 - accuracy: 0.7964 - val_loss: 0.5005 - val_accuracy: 0.7821\n",
      "Epoch 77/250\n",
      "109/109 [==============================] - 0s 1ms/step - loss: 0.4311 - accuracy: 0.7985 - val_loss: 0.6942 - val_accuracy: 0.7246\n",
      "Epoch 78/250\n",
      "109/109 [==============================] - 0s 1ms/step - loss: 0.4426 - accuracy: 0.7936 - val_loss: 0.4852 - val_accuracy: 0.7987\n",
      "Epoch 79/250\n",
      "109/109 [==============================] - 0s 1ms/step - loss: 0.4394 - accuracy: 0.7936 - val_loss: 0.5272 - val_accuracy: 0.7786\n",
      "Epoch 80/250\n",
      "109/109 [==============================] - 0s 1ms/step - loss: 0.4348 - accuracy: 0.7944 - val_loss: 0.6266 - val_accuracy: 0.7234\n",
      "Epoch 81/250\n",
      "109/109 [==============================] - 0s 1ms/step - loss: 0.4343 - accuracy: 0.7900 - val_loss: 0.5509 - val_accuracy: 0.7378\n",
      "Epoch 82/250\n",
      "109/109 [==============================] - 0s 1ms/step - loss: 0.4310 - accuracy: 0.7958 - val_loss: 0.4605 - val_accuracy: 0.7878\n",
      "Epoch 83/250\n",
      "109/109 [==============================] - 0s 1ms/step - loss: 0.4281 - accuracy: 0.7954 - val_loss: 0.5314 - val_accuracy: 0.7556\n",
      "Epoch 84/250\n",
      "109/109 [==============================] - 0s 1ms/step - loss: 0.4244 - accuracy: 0.7961 - val_loss: 0.4568 - val_accuracy: 0.7809\n",
      "Epoch 85/250\n",
      "109/109 [==============================] - 0s 1ms/step - loss: 0.4303 - accuracy: 0.7932 - val_loss: 0.4603 - val_accuracy: 0.7890\n",
      "Epoch 85: early stopping\n"
     ]
    },
    {
     "data": {
      "text/plain": [
       "<keras.callbacks.History at 0x7f87ad2cdfd0>"
      ]
     },
     "execution_count": 616,
     "metadata": {},
     "output_type": "execute_result"
    }
   ],
   "source": [
    "model.compile(\n",
    "    optimizer='adam',\n",
    "    loss='binary_crossentropy', \n",
    "    metrics=['accuracy']\n",
    ")\n",
    "model.fit(X_train, \n",
    "          y_train, \n",
    "          epochs=250, \n",
    "          validation_split = 0.2, \n",
    "          batch_size=64,\n",
    "          callbacks = [es_callback])"
   ]
  },
  {
   "cell_type": "code",
   "execution_count": 617,
   "id": "ae696ad9",
   "metadata": {},
   "outputs": [
    {
     "name": "stdout",
     "output_type": "stream",
     "text": [
      "134/134 [==============================] - 0s 689us/step\n"
     ]
    }
   ],
   "source": [
    "predict = model.predict(X_test)"
   ]
  },
  {
   "cell_type": "code",
   "execution_count": 618,
   "id": "b40c15b5",
   "metadata": {},
   "outputs": [
    {
     "data": {
      "text/plain": [
       "array([9.9979120e-01, 1.1211921e-04, 9.7415960e-01, ..., 9.7242862e-01,\n",
       "       5.8922035e-01, 8.0179119e-01], dtype=float32)"
      ]
     },
     "execution_count": 618,
     "metadata": {},
     "output_type": "execute_result"
    }
   ],
   "source": [
    "predict = predict.flatten()\n",
    "predict"
   ]
  },
  {
   "cell_type": "code",
   "execution_count": 619,
   "id": "e0291f10",
   "metadata": {},
   "outputs": [],
   "source": [
    "pred = []\n",
    "\n",
    "for i in predict:\n",
    "    if i == 1:\n",
    "        pred.append(True)\n",
    "    else:\n",
    "        pred.append(False)"
   ]
  },
  {
   "cell_type": "code",
   "execution_count": 620,
   "id": "bba7d6ce",
   "metadata": {
    "scrolled": true
   },
   "outputs": [],
   "source": [
    "output2 = pd.DataFrame({'PassengerId':test['Passenger_Group'].astype('str').str.zfill(4)+'_'+test['Passenger_Number'].astype('str').str.zfill(2)\n",
    ", 'Transported' : pred})"
   ]
  },
  {
   "cell_type": "code",
   "execution_count": 622,
   "id": "5e8d877a",
   "metadata": {},
   "outputs": [],
   "source": [
    "output2.to_csv('/Users/inesmurcortes/Documents/inés/GitHub_Titanic/Spaceship_Titanic/output2.csv', mode='w', index=False)"
   ]
  }
 ],
 "metadata": {
  "kernelspec": {
   "display_name": "Python 3 (ipykernel)",
   "language": "python",
   "name": "python3"
  },
  "language_info": {
   "codemirror_mode": {
    "name": "ipython",
    "version": 3
   },
   "file_extension": ".py",
   "mimetype": "text/x-python",
   "name": "python",
   "nbconvert_exporter": "python",
   "pygments_lexer": "ipython3",
   "version": "3.9.12"
  }
 },
 "nbformat": 4,
 "nbformat_minor": 5
}
